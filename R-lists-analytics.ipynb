{
 "cells": [
  {
   "cell_type": "markdown",
   "metadata": {},
   "source": [
    "# Advanced Analytics em R - Listas e Date-Times"
   ]
  },
  {
   "cell_type": "code",
   "execution_count": 1,
   "metadata": {},
   "outputs": [],
   "source": [
    "util <- read.csv(\"P3-Machine-Utilization.csv\")"
   ]
  },
  {
   "cell_type": "code",
   "execution_count": 2,
   "metadata": {},
   "outputs": [
    {
     "data": {
      "text/html": [
       "<table>\n",
       "<thead><tr><th scope=col>Timestamp</th><th scope=col>Machine</th><th scope=col>Percent.Idle</th></tr></thead>\n",
       "<tbody>\n",
       "\t<tr><td>01/09/2016 00:00</td><td>RL1             </td><td>        NA      </td></tr>\n",
       "\t<tr><td>01/09/2016 01:00</td><td>RL1             </td><td>        NA      </td></tr>\n",
       "\t<tr><td>01/09/2016 02:00</td><td>RL1             </td><td>        NA      </td></tr>\n",
       "\t<tr><td>01/09/2016 03:00</td><td>RL1             </td><td>        NA      </td></tr>\n",
       "\t<tr><td>01/09/2016 04:00</td><td>RL1             </td><td>        NA      </td></tr>\n",
       "\t<tr><td>01/09/2016 05:00</td><td>RL1             </td><td>        NA      </td></tr>\n",
       "\t<tr><td>01/09/2016 06:00</td><td>RL1             </td><td>        NA      </td></tr>\n",
       "\t<tr><td>01/09/2016 07:00</td><td>RL1             </td><td>0.01994048      </td></tr>\n",
       "\t<tr><td>01/09/2016 08:00</td><td>RL1             </td><td>0.01997024      </td></tr>\n",
       "\t<tr><td>01/09/2016 09:00</td><td>RL1             </td><td>0.02119048      </td></tr>\n",
       "</tbody>\n",
       "</table>\n"
      ],
      "text/latex": [
       "\\begin{tabular}{r|lll}\n",
       " Timestamp & Machine & Percent.Idle\\\\\n",
       "\\hline\n",
       "\t 01/09/2016 00:00 & RL1              &         NA      \\\\\n",
       "\t 01/09/2016 01:00 & RL1              &         NA      \\\\\n",
       "\t 01/09/2016 02:00 & RL1              &         NA      \\\\\n",
       "\t 01/09/2016 03:00 & RL1              &         NA      \\\\\n",
       "\t 01/09/2016 04:00 & RL1              &         NA      \\\\\n",
       "\t 01/09/2016 05:00 & RL1              &         NA      \\\\\n",
       "\t 01/09/2016 06:00 & RL1              &         NA      \\\\\n",
       "\t 01/09/2016 07:00 & RL1              & 0.01994048      \\\\\n",
       "\t 01/09/2016 08:00 & RL1              & 0.01997024      \\\\\n",
       "\t 01/09/2016 09:00 & RL1              & 0.02119048      \\\\\n",
       "\\end{tabular}\n"
      ],
      "text/markdown": [
       "\n",
       "| Timestamp | Machine | Percent.Idle |\n",
       "|---|---|---|\n",
       "| 01/09/2016 00:00 | RL1              |         NA       |\n",
       "| 01/09/2016 01:00 | RL1              |         NA       |\n",
       "| 01/09/2016 02:00 | RL1              |         NA       |\n",
       "| 01/09/2016 03:00 | RL1              |         NA       |\n",
       "| 01/09/2016 04:00 | RL1              |         NA       |\n",
       "| 01/09/2016 05:00 | RL1              |         NA       |\n",
       "| 01/09/2016 06:00 | RL1              |         NA       |\n",
       "| 01/09/2016 07:00 | RL1              | 0.01994048       |\n",
       "| 01/09/2016 08:00 | RL1              | 0.01997024       |\n",
       "| 01/09/2016 09:00 | RL1              | 0.02119048       |\n",
       "\n"
      ],
      "text/plain": [
       "   Timestamp        Machine Percent.Idle\n",
       "1  01/09/2016 00:00 RL1             NA  \n",
       "2  01/09/2016 01:00 RL1             NA  \n",
       "3  01/09/2016 02:00 RL1             NA  \n",
       "4  01/09/2016 03:00 RL1             NA  \n",
       "5  01/09/2016 04:00 RL1             NA  \n",
       "6  01/09/2016 05:00 RL1             NA  \n",
       "7  01/09/2016 06:00 RL1             NA  \n",
       "8  01/09/2016 07:00 RL1     0.01994048  \n",
       "9  01/09/2016 08:00 RL1     0.01997024  \n",
       "10 01/09/2016 09:00 RL1     0.02119048  "
      ]
     },
     "metadata": {},
     "output_type": "display_data"
    }
   ],
   "source": [
    "head(util, 10)"
   ]
  },
  {
   "cell_type": "code",
   "execution_count": 3,
   "metadata": {},
   "outputs": [
    {
     "data": {
      "text/plain": [
       "            Timestamp    Machine     Percent.Idle   \n",
       " 01/09/2016 00:00:   5   RL1 :720   Min.   :0.0000  \n",
       " 01/09/2016 01:00:   5   RL2 :720   1st Qu.:0.0262  \n",
       " 01/09/2016 02:00:   5   SR1 :720   Median :0.0410  \n",
       " 01/09/2016 03:00:   5   SR4A:720   Mean   :0.0431  \n",
       " 01/09/2016 04:00:   5   SR6 :720   3rd Qu.:0.0576  \n",
       " 01/09/2016 05:00:   5              Max.   :0.1508  \n",
       " (Other)         :3570              NA's   :361     "
      ]
     },
     "metadata": {},
     "output_type": "display_data"
    }
   ],
   "source": [
    "summary(util)"
   ]
  },
  {
   "cell_type": "code",
   "execution_count": 4,
   "metadata": {},
   "outputs": [
    {
     "data": {
      "text/html": [
       "<table>\n",
       "<thead><tr><th scope=col>Timestamp</th><th scope=col>Machine</th><th scope=col>Percent.Idle</th><th scope=col>Utilization</th></tr></thead>\n",
       "<tbody>\n",
       "\t<tr><td>01/09/2016 00:00</td><td>RL1             </td><td>        NA      </td><td>       NA       </td></tr>\n",
       "\t<tr><td>01/09/2016 01:00</td><td>RL1             </td><td>        NA      </td><td>       NA       </td></tr>\n",
       "\t<tr><td>01/09/2016 02:00</td><td>RL1             </td><td>        NA      </td><td>       NA       </td></tr>\n",
       "\t<tr><td>01/09/2016 03:00</td><td>RL1             </td><td>        NA      </td><td>       NA       </td></tr>\n",
       "\t<tr><td>01/09/2016 04:00</td><td>RL1             </td><td>        NA      </td><td>       NA       </td></tr>\n",
       "\t<tr><td>01/09/2016 05:00</td><td>RL1             </td><td>        NA      </td><td>       NA       </td></tr>\n",
       "\t<tr><td>01/09/2016 06:00</td><td>RL1             </td><td>        NA      </td><td>       NA       </td></tr>\n",
       "\t<tr><td>01/09/2016 07:00</td><td>RL1             </td><td>0.01994048      </td><td>0.9800595       </td></tr>\n",
       "\t<tr><td>01/09/2016 08:00</td><td>RL1             </td><td>0.01997024      </td><td>0.9800298       </td></tr>\n",
       "\t<tr><td>01/09/2016 09:00</td><td>RL1             </td><td>0.02119048      </td><td>0.9788095       </td></tr>\n",
       "</tbody>\n",
       "</table>\n"
      ],
      "text/latex": [
       "\\begin{tabular}{r|llll}\n",
       " Timestamp & Machine & Percent.Idle & Utilization\\\\\n",
       "\\hline\n",
       "\t 01/09/2016 00:00 & RL1              &         NA       &        NA       \\\\\n",
       "\t 01/09/2016 01:00 & RL1              &         NA       &        NA       \\\\\n",
       "\t 01/09/2016 02:00 & RL1              &         NA       &        NA       \\\\\n",
       "\t 01/09/2016 03:00 & RL1              &         NA       &        NA       \\\\\n",
       "\t 01/09/2016 04:00 & RL1              &         NA       &        NA       \\\\\n",
       "\t 01/09/2016 05:00 & RL1              &         NA       &        NA       \\\\\n",
       "\t 01/09/2016 06:00 & RL1              &         NA       &        NA       \\\\\n",
       "\t 01/09/2016 07:00 & RL1              & 0.01994048       & 0.9800595       \\\\\n",
       "\t 01/09/2016 08:00 & RL1              & 0.01997024       & 0.9800298       \\\\\n",
       "\t 01/09/2016 09:00 & RL1              & 0.02119048       & 0.9788095       \\\\\n",
       "\\end{tabular}\n"
      ],
      "text/markdown": [
       "\n",
       "| Timestamp | Machine | Percent.Idle | Utilization |\n",
       "|---|---|---|---|\n",
       "| 01/09/2016 00:00 | RL1              |         NA       |        NA        |\n",
       "| 01/09/2016 01:00 | RL1              |         NA       |        NA        |\n",
       "| 01/09/2016 02:00 | RL1              |         NA       |        NA        |\n",
       "| 01/09/2016 03:00 | RL1              |         NA       |        NA        |\n",
       "| 01/09/2016 04:00 | RL1              |         NA       |        NA        |\n",
       "| 01/09/2016 05:00 | RL1              |         NA       |        NA        |\n",
       "| 01/09/2016 06:00 | RL1              |         NA       |        NA        |\n",
       "| 01/09/2016 07:00 | RL1              | 0.01994048       | 0.9800595        |\n",
       "| 01/09/2016 08:00 | RL1              | 0.01997024       | 0.9800298        |\n",
       "| 01/09/2016 09:00 | RL1              | 0.02119048       | 0.9788095        |\n",
       "\n"
      ],
      "text/plain": [
       "   Timestamp        Machine Percent.Idle Utilization\n",
       "1  01/09/2016 00:00 RL1             NA          NA  \n",
       "2  01/09/2016 01:00 RL1             NA          NA  \n",
       "3  01/09/2016 02:00 RL1             NA          NA  \n",
       "4  01/09/2016 03:00 RL1             NA          NA  \n",
       "5  01/09/2016 04:00 RL1             NA          NA  \n",
       "6  01/09/2016 05:00 RL1             NA          NA  \n",
       "7  01/09/2016 06:00 RL1             NA          NA  \n",
       "8  01/09/2016 07:00 RL1     0.01994048   0.9800595  \n",
       "9  01/09/2016 08:00 RL1     0.01997024   0.9800298  \n",
       "10 01/09/2016 09:00 RL1     0.02119048   0.9788095  "
      ]
     },
     "metadata": {},
     "output_type": "display_data"
    }
   ],
   "source": [
    "# Criando nova coluna\n",
    "util$Utilization <- 1-util$Percent.Idle \n",
    "head(util, 10)"
   ]
  },
  {
   "cell_type": "code",
   "execution_count": 5,
   "metadata": {},
   "outputs": [],
   "source": [
    "# Handling Data-Times com POSIXct()\n",
    "util$PosixTime <- as.POSIXct(util$Timestamp, format=\"%d/%m/%Y %H:%M\")"
   ]
  },
  {
   "cell_type": "code",
   "execution_count": 6,
   "metadata": {},
   "outputs": [
    {
     "data": {
      "text/html": [
       "<table>\n",
       "<thead><tr><th scope=col>Timestamp</th><th scope=col>Machine</th><th scope=col>Percent.Idle</th><th scope=col>Utilization</th><th scope=col>PosixTime</th></tr></thead>\n",
       "<tbody>\n",
       "\t<tr><td>01/09/2016 00:00   </td><td>RL1                </td><td>        NA         </td><td>       NA          </td><td>2016-09-01 00:00:00</td></tr>\n",
       "\t<tr><td>01/09/2016 01:00   </td><td>RL1                </td><td>        NA         </td><td>       NA          </td><td>2016-09-01 01:00:00</td></tr>\n",
       "\t<tr><td>01/09/2016 02:00   </td><td>RL1                </td><td>        NA         </td><td>       NA          </td><td>2016-09-01 02:00:00</td></tr>\n",
       "\t<tr><td>01/09/2016 03:00   </td><td>RL1                </td><td>        NA         </td><td>       NA          </td><td>2016-09-01 03:00:00</td></tr>\n",
       "\t<tr><td>01/09/2016 04:00   </td><td>RL1                </td><td>        NA         </td><td>       NA          </td><td>2016-09-01 04:00:00</td></tr>\n",
       "\t<tr><td>01/09/2016 05:00   </td><td>RL1                </td><td>        NA         </td><td>       NA          </td><td>2016-09-01 05:00:00</td></tr>\n",
       "\t<tr><td>01/09/2016 06:00   </td><td>RL1                </td><td>        NA         </td><td>       NA          </td><td>2016-09-01 06:00:00</td></tr>\n",
       "\t<tr><td>01/09/2016 07:00   </td><td>RL1                </td><td>0.01994048         </td><td>0.9800595          </td><td>2016-09-01 07:00:00</td></tr>\n",
       "\t<tr><td>01/09/2016 08:00   </td><td>RL1                </td><td>0.01997024         </td><td>0.9800298          </td><td>2016-09-01 08:00:00</td></tr>\n",
       "\t<tr><td>01/09/2016 09:00   </td><td>RL1                </td><td>0.02119048         </td><td>0.9788095          </td><td>2016-09-01 09:00:00</td></tr>\n",
       "</tbody>\n",
       "</table>\n"
      ],
      "text/latex": [
       "\\begin{tabular}{r|lllll}\n",
       " Timestamp & Machine & Percent.Idle & Utilization & PosixTime\\\\\n",
       "\\hline\n",
       "\t 01/09/2016 00:00    & RL1                 &         NA          &        NA           & 2016-09-01 00:00:00\\\\\n",
       "\t 01/09/2016 01:00    & RL1                 &         NA          &        NA           & 2016-09-01 01:00:00\\\\\n",
       "\t 01/09/2016 02:00    & RL1                 &         NA          &        NA           & 2016-09-01 02:00:00\\\\\n",
       "\t 01/09/2016 03:00    & RL1                 &         NA          &        NA           & 2016-09-01 03:00:00\\\\\n",
       "\t 01/09/2016 04:00    & RL1                 &         NA          &        NA           & 2016-09-01 04:00:00\\\\\n",
       "\t 01/09/2016 05:00    & RL1                 &         NA          &        NA           & 2016-09-01 05:00:00\\\\\n",
       "\t 01/09/2016 06:00    & RL1                 &         NA          &        NA           & 2016-09-01 06:00:00\\\\\n",
       "\t 01/09/2016 07:00    & RL1                 & 0.01994048          & 0.9800595           & 2016-09-01 07:00:00\\\\\n",
       "\t 01/09/2016 08:00    & RL1                 & 0.01997024          & 0.9800298           & 2016-09-01 08:00:00\\\\\n",
       "\t 01/09/2016 09:00    & RL1                 & 0.02119048          & 0.9788095           & 2016-09-01 09:00:00\\\\\n",
       "\\end{tabular}\n"
      ],
      "text/markdown": [
       "\n",
       "| Timestamp | Machine | Percent.Idle | Utilization | PosixTime |\n",
       "|---|---|---|---|---|\n",
       "| 01/09/2016 00:00    | RL1                 |         NA          |        NA           | 2016-09-01 00:00:00 |\n",
       "| 01/09/2016 01:00    | RL1                 |         NA          |        NA           | 2016-09-01 01:00:00 |\n",
       "| 01/09/2016 02:00    | RL1                 |         NA          |        NA           | 2016-09-01 02:00:00 |\n",
       "| 01/09/2016 03:00    | RL1                 |         NA          |        NA           | 2016-09-01 03:00:00 |\n",
       "| 01/09/2016 04:00    | RL1                 |         NA          |        NA           | 2016-09-01 04:00:00 |\n",
       "| 01/09/2016 05:00    | RL1                 |         NA          |        NA           | 2016-09-01 05:00:00 |\n",
       "| 01/09/2016 06:00    | RL1                 |         NA          |        NA           | 2016-09-01 06:00:00 |\n",
       "| 01/09/2016 07:00    | RL1                 | 0.01994048          | 0.9800595           | 2016-09-01 07:00:00 |\n",
       "| 01/09/2016 08:00    | RL1                 | 0.01997024          | 0.9800298           | 2016-09-01 08:00:00 |\n",
       "| 01/09/2016 09:00    | RL1                 | 0.02119048          | 0.9788095           | 2016-09-01 09:00:00 |\n",
       "\n"
      ],
      "text/plain": [
       "   Timestamp        Machine Percent.Idle Utilization PosixTime          \n",
       "1  01/09/2016 00:00 RL1             NA          NA   2016-09-01 00:00:00\n",
       "2  01/09/2016 01:00 RL1             NA          NA   2016-09-01 01:00:00\n",
       "3  01/09/2016 02:00 RL1             NA          NA   2016-09-01 02:00:00\n",
       "4  01/09/2016 03:00 RL1             NA          NA   2016-09-01 03:00:00\n",
       "5  01/09/2016 04:00 RL1             NA          NA   2016-09-01 04:00:00\n",
       "6  01/09/2016 05:00 RL1             NA          NA   2016-09-01 05:00:00\n",
       "7  01/09/2016 06:00 RL1             NA          NA   2016-09-01 06:00:00\n",
       "8  01/09/2016 07:00 RL1     0.01994048   0.9800595   2016-09-01 07:00:00\n",
       "9  01/09/2016 08:00 RL1     0.01997024   0.9800298   2016-09-01 08:00:00\n",
       "10 01/09/2016 09:00 RL1     0.02119048   0.9788095   2016-09-01 09:00:00"
      ]
     },
     "metadata": {},
     "output_type": "display_data"
    }
   ],
   "source": [
    "head(util,10)"
   ]
  },
  {
   "cell_type": "code",
   "execution_count": 7,
   "metadata": {},
   "outputs": [
    {
     "data": {
      "text/plain": [
       "            Timestamp    Machine     Percent.Idle     Utilization    \n",
       " 01/09/2016 00:00:   5   RL1 :720   Min.   :0.0000   Min.   :0.8492  \n",
       " 01/09/2016 01:00:   5   RL2 :720   1st Qu.:0.0262   1st Qu.:0.9424  \n",
       " 01/09/2016 02:00:   5   SR1 :720   Median :0.0410   Median :0.9590  \n",
       " 01/09/2016 03:00:   5   SR4A:720   Mean   :0.0431   Mean   :0.9569  \n",
       " 01/09/2016 04:00:   5   SR6 :720   3rd Qu.:0.0576   3rd Qu.:0.9738  \n",
       " 01/09/2016 05:00:   5              Max.   :0.1508   Max.   :1.0000  \n",
       " (Other)         :3570              NA's   :361      NA's   :361     \n",
       "   PosixTime                  \n",
       " Min.   :2016-09-01 00:00:00  \n",
       " 1st Qu.:2016-09-08 11:45:00  \n",
       " Median :2016-09-15 23:30:00  \n",
       " Mean   :2016-09-15 23:30:00  \n",
       " 3rd Qu.:2016-09-23 11:15:00  \n",
       " Max.   :2016-09-30 23:00:00  \n",
       "                              "
      ]
     },
     "metadata": {},
     "output_type": "display_data"
    }
   ],
   "source": [
    "summary(util)"
   ]
  },
  {
   "cell_type": "code",
   "execution_count": 8,
   "metadata": {},
   "outputs": [],
   "source": [
    "# Removendo coluna\n",
    "util$Timestamp <- NULL"
   ]
  },
  {
   "cell_type": "code",
   "execution_count": 9,
   "metadata": {},
   "outputs": [
    {
     "data": {
      "text/html": [
       "<table>\n",
       "<thead><tr><th scope=col>Machine</th><th scope=col>Percent.Idle</th><th scope=col>Utilization</th><th scope=col>PosixTime</th></tr></thead>\n",
       "<tbody>\n",
       "\t<tr><td>RL1                </td><td>        NA         </td><td>       NA          </td><td>2016-09-01 00:00:00</td></tr>\n",
       "\t<tr><td>RL1                </td><td>        NA         </td><td>       NA          </td><td>2016-09-01 01:00:00</td></tr>\n",
       "\t<tr><td>RL1                </td><td>        NA         </td><td>       NA          </td><td>2016-09-01 02:00:00</td></tr>\n",
       "\t<tr><td>RL1                </td><td>        NA         </td><td>       NA          </td><td>2016-09-01 03:00:00</td></tr>\n",
       "\t<tr><td>RL1                </td><td>        NA         </td><td>       NA          </td><td>2016-09-01 04:00:00</td></tr>\n",
       "\t<tr><td>RL1                </td><td>        NA         </td><td>       NA          </td><td>2016-09-01 05:00:00</td></tr>\n",
       "\t<tr><td>RL1                </td><td>        NA         </td><td>       NA          </td><td>2016-09-01 06:00:00</td></tr>\n",
       "\t<tr><td>RL1                </td><td>0.01994048         </td><td>0.9800595          </td><td>2016-09-01 07:00:00</td></tr>\n",
       "\t<tr><td>RL1                </td><td>0.01997024         </td><td>0.9800298          </td><td>2016-09-01 08:00:00</td></tr>\n",
       "\t<tr><td>RL1                </td><td>0.02119048         </td><td>0.9788095          </td><td>2016-09-01 09:00:00</td></tr>\n",
       "</tbody>\n",
       "</table>\n"
      ],
      "text/latex": [
       "\\begin{tabular}{r|llll}\n",
       " Machine & Percent.Idle & Utilization & PosixTime\\\\\n",
       "\\hline\n",
       "\t RL1                 &         NA          &        NA           & 2016-09-01 00:00:00\\\\\n",
       "\t RL1                 &         NA          &        NA           & 2016-09-01 01:00:00\\\\\n",
       "\t RL1                 &         NA          &        NA           & 2016-09-01 02:00:00\\\\\n",
       "\t RL1                 &         NA          &        NA           & 2016-09-01 03:00:00\\\\\n",
       "\t RL1                 &         NA          &        NA           & 2016-09-01 04:00:00\\\\\n",
       "\t RL1                 &         NA          &        NA           & 2016-09-01 05:00:00\\\\\n",
       "\t RL1                 &         NA          &        NA           & 2016-09-01 06:00:00\\\\\n",
       "\t RL1                 & 0.01994048          & 0.9800595           & 2016-09-01 07:00:00\\\\\n",
       "\t RL1                 & 0.01997024          & 0.9800298           & 2016-09-01 08:00:00\\\\\n",
       "\t RL1                 & 0.02119048          & 0.9788095           & 2016-09-01 09:00:00\\\\\n",
       "\\end{tabular}\n"
      ],
      "text/markdown": [
       "\n",
       "| Machine | Percent.Idle | Utilization | PosixTime |\n",
       "|---|---|---|---|\n",
       "| RL1                 |         NA          |        NA           | 2016-09-01 00:00:00 |\n",
       "| RL1                 |         NA          |        NA           | 2016-09-01 01:00:00 |\n",
       "| RL1                 |         NA          |        NA           | 2016-09-01 02:00:00 |\n",
       "| RL1                 |         NA          |        NA           | 2016-09-01 03:00:00 |\n",
       "| RL1                 |         NA          |        NA           | 2016-09-01 04:00:00 |\n",
       "| RL1                 |         NA          |        NA           | 2016-09-01 05:00:00 |\n",
       "| RL1                 |         NA          |        NA           | 2016-09-01 06:00:00 |\n",
       "| RL1                 | 0.01994048          | 0.9800595           | 2016-09-01 07:00:00 |\n",
       "| RL1                 | 0.01997024          | 0.9800298           | 2016-09-01 08:00:00 |\n",
       "| RL1                 | 0.02119048          | 0.9788095           | 2016-09-01 09:00:00 |\n",
       "\n"
      ],
      "text/plain": [
       "   Machine Percent.Idle Utilization PosixTime          \n",
       "1  RL1             NA          NA   2016-09-01 00:00:00\n",
       "2  RL1             NA          NA   2016-09-01 01:00:00\n",
       "3  RL1             NA          NA   2016-09-01 02:00:00\n",
       "4  RL1             NA          NA   2016-09-01 03:00:00\n",
       "5  RL1             NA          NA   2016-09-01 04:00:00\n",
       "6  RL1             NA          NA   2016-09-01 05:00:00\n",
       "7  RL1             NA          NA   2016-09-01 06:00:00\n",
       "8  RL1     0.01994048   0.9800595   2016-09-01 07:00:00\n",
       "9  RL1     0.01997024   0.9800298   2016-09-01 08:00:00\n",
       "10 RL1     0.02119048   0.9788095   2016-09-01 09:00:00"
      ]
     },
     "metadata": {},
     "output_type": "display_data"
    }
   ],
   "source": [
    "head(util,10)"
   ]
  },
  {
   "cell_type": "code",
   "execution_count": 10,
   "metadata": {},
   "outputs": [],
   "source": [
    "# Mundando colunas de posição [c(linhas),c(colunas)]\n",
    "util <- util[,c(4,3,2,1)]"
   ]
  },
  {
   "cell_type": "code",
   "execution_count": 11,
   "metadata": {},
   "outputs": [
    {
     "data": {
      "text/html": [
       "<table>\n",
       "<thead><tr><th scope=col>PosixTime</th><th scope=col>Utilization</th><th scope=col>Percent.Idle</th><th scope=col>Machine</th></tr></thead>\n",
       "<tbody>\n",
       "\t<tr><td>2016-09-01 00:00:00</td><td>       NA          </td><td>        NA         </td><td>RL1                </td></tr>\n",
       "\t<tr><td>2016-09-01 01:00:00</td><td>       NA          </td><td>        NA         </td><td>RL1                </td></tr>\n",
       "\t<tr><td>2016-09-01 02:00:00</td><td>       NA          </td><td>        NA         </td><td>RL1                </td></tr>\n",
       "\t<tr><td>2016-09-01 03:00:00</td><td>       NA          </td><td>        NA         </td><td>RL1                </td></tr>\n",
       "\t<tr><td>2016-09-01 04:00:00</td><td>       NA          </td><td>        NA         </td><td>RL1                </td></tr>\n",
       "\t<tr><td>2016-09-01 05:00:00</td><td>       NA          </td><td>        NA         </td><td>RL1                </td></tr>\n",
       "\t<tr><td>2016-09-01 06:00:00</td><td>       NA          </td><td>        NA         </td><td>RL1                </td></tr>\n",
       "\t<tr><td>2016-09-01 07:00:00</td><td>0.9800595          </td><td>0.01994048         </td><td>RL1                </td></tr>\n",
       "\t<tr><td>2016-09-01 08:00:00</td><td>0.9800298          </td><td>0.01997024         </td><td>RL1                </td></tr>\n",
       "\t<tr><td>2016-09-01 09:00:00</td><td>0.9788095          </td><td>0.02119048         </td><td>RL1                </td></tr>\n",
       "</tbody>\n",
       "</table>\n"
      ],
      "text/latex": [
       "\\begin{tabular}{r|llll}\n",
       " PosixTime & Utilization & Percent.Idle & Machine\\\\\n",
       "\\hline\n",
       "\t 2016-09-01 00:00:00 &        NA           &         NA          & RL1                \\\\\n",
       "\t 2016-09-01 01:00:00 &        NA           &         NA          & RL1                \\\\\n",
       "\t 2016-09-01 02:00:00 &        NA           &         NA          & RL1                \\\\\n",
       "\t 2016-09-01 03:00:00 &        NA           &         NA          & RL1                \\\\\n",
       "\t 2016-09-01 04:00:00 &        NA           &         NA          & RL1                \\\\\n",
       "\t 2016-09-01 05:00:00 &        NA           &         NA          & RL1                \\\\\n",
       "\t 2016-09-01 06:00:00 &        NA           &         NA          & RL1                \\\\\n",
       "\t 2016-09-01 07:00:00 & 0.9800595           & 0.01994048          & RL1                \\\\\n",
       "\t 2016-09-01 08:00:00 & 0.9800298           & 0.01997024          & RL1                \\\\\n",
       "\t 2016-09-01 09:00:00 & 0.9788095           & 0.02119048          & RL1                \\\\\n",
       "\\end{tabular}\n"
      ],
      "text/markdown": [
       "\n",
       "| PosixTime | Utilization | Percent.Idle | Machine |\n",
       "|---|---|---|---|\n",
       "| 2016-09-01 00:00:00 |        NA           |         NA          | RL1                 |\n",
       "| 2016-09-01 01:00:00 |        NA           |         NA          | RL1                 |\n",
       "| 2016-09-01 02:00:00 |        NA           |         NA          | RL1                 |\n",
       "| 2016-09-01 03:00:00 |        NA           |         NA          | RL1                 |\n",
       "| 2016-09-01 04:00:00 |        NA           |         NA          | RL1                 |\n",
       "| 2016-09-01 05:00:00 |        NA           |         NA          | RL1                 |\n",
       "| 2016-09-01 06:00:00 |        NA           |         NA          | RL1                 |\n",
       "| 2016-09-01 07:00:00 | 0.9800595           | 0.01994048          | RL1                 |\n",
       "| 2016-09-01 08:00:00 | 0.9800298           | 0.01997024          | RL1                 |\n",
       "| 2016-09-01 09:00:00 | 0.9788095           | 0.02119048          | RL1                 |\n",
       "\n"
      ],
      "text/plain": [
       "   PosixTime           Utilization Percent.Idle Machine\n",
       "1  2016-09-01 00:00:00        NA           NA   RL1    \n",
       "2  2016-09-01 01:00:00        NA           NA   RL1    \n",
       "3  2016-09-01 02:00:00        NA           NA   RL1    \n",
       "4  2016-09-01 03:00:00        NA           NA   RL1    \n",
       "5  2016-09-01 04:00:00        NA           NA   RL1    \n",
       "6  2016-09-01 05:00:00        NA           NA   RL1    \n",
       "7  2016-09-01 06:00:00        NA           NA   RL1    \n",
       "8  2016-09-01 07:00:00 0.9800595   0.01994048   RL1    \n",
       "9  2016-09-01 08:00:00 0.9800298   0.01997024   RL1    \n",
       "10 2016-09-01 09:00:00 0.9788095   0.02119048   RL1    "
      ]
     },
     "metadata": {},
     "output_type": "display_data"
    }
   ],
   "source": [
    "head(util,10)"
   ]
  },
  {
   "cell_type": "code",
   "execution_count": 12,
   "metadata": {},
   "outputs": [
    {
     "data": {
      "text/plain": [
       "   PosixTime                    Utilization      Percent.Idle    Machine   \n",
       " Min.   :2016-09-01 00:00:00   Min.   :0.8492   Min.   :0.0000   RL1 :720  \n",
       " 1st Qu.:2016-09-08 11:45:00   1st Qu.:0.9424   1st Qu.:0.0262   RL2 :720  \n",
       " Median :2016-09-15 23:30:00   Median :0.9590   Median :0.0410   SR1 :720  \n",
       " Mean   :2016-09-15 23:30:00   Mean   :0.9569   Mean   :0.0431   SR4A:720  \n",
       " 3rd Qu.:2016-09-23 11:15:00   3rd Qu.:0.9738   3rd Qu.:0.0576   SR6 :720  \n",
       " Max.   :2016-09-30 23:00:00   Max.   :1.0000   Max.   :0.1508             \n",
       "                               NA's   :361      NA's   :361                "
      ]
     },
     "metadata": {},
     "output_type": "display_data"
    }
   ],
   "source": [
    "summary(util)"
   ]
  },
  {
   "cell_type": "code",
   "execution_count": 13,
   "metadata": {},
   "outputs": [],
   "source": [
    "# Lists\n",
    "RL1 <- util[util$Machine == \"RL1\",]"
   ]
  },
  {
   "cell_type": "code",
   "execution_count": 14,
   "metadata": {},
   "outputs": [
    {
     "data": {
      "text/plain": [
       "   PosixTime                    Utilization      Percent.Idle     Machine   \n",
       " Min.   :2016-09-01 00:00:00   Min.   :0.8492   Min.   :0.00500   RL1 :720  \n",
       " 1st Qu.:2016-09-08 11:45:00   1st Qu.:0.9403   1st Qu.:0.03208   RL2 :  0  \n",
       " Median :2016-09-15 23:30:00   Median :0.9539   Median :0.04613   SR1 :  0  \n",
       " Mean   :2016-09-15 23:30:00   Mean   :0.9517   Mean   :0.04830   SR4A:  0  \n",
       " 3rd Qu.:2016-09-23 11:15:00   3rd Qu.:0.9679   3rd Qu.:0.05967   SR6 :  0  \n",
       " Max.   :2016-09-30 23:00:00   Max.   :0.9950   Max.   :0.15077             \n",
       "                               NA's   :7        NA's   :7                   "
      ]
     },
     "metadata": {},
     "output_type": "display_data"
    }
   ],
   "source": [
    "summary(RL1)"
   ]
  },
  {
   "cell_type": "code",
   "execution_count": 15,
   "metadata": {},
   "outputs": [],
   "source": [
    "RL1$Machine <- factor(RL1$Machine)"
   ]
  },
  {
   "cell_type": "code",
   "execution_count": 16,
   "metadata": {},
   "outputs": [
    {
     "data": {
      "text/plain": [
       "   PosixTime                    Utilization      Percent.Idle     Machine  \n",
       " Min.   :2016-09-01 00:00:00   Min.   :0.8492   Min.   :0.00500   RL1:720  \n",
       " 1st Qu.:2016-09-08 11:45:00   1st Qu.:0.9403   1st Qu.:0.03208            \n",
       " Median :2016-09-15 23:30:00   Median :0.9539   Median :0.04613            \n",
       " Mean   :2016-09-15 23:30:00   Mean   :0.9517   Mean   :0.04830            \n",
       " 3rd Qu.:2016-09-23 11:15:00   3rd Qu.:0.9679   3rd Qu.:0.05967            \n",
       " Max.   :2016-09-30 23:00:00   Max.   :0.9950   Max.   :0.15077            \n",
       "                               NA's   :7        NA's   :7                  "
      ]
     },
     "metadata": {},
     "output_type": "display_data"
    }
   ],
   "source": [
    "summary(RL1)"
   ]
  },
  {
   "cell_type": "code",
   "execution_count": 17,
   "metadata": {},
   "outputs": [],
   "source": [
    "# LISTAS \n",
    "# Utilização Mensal (excluindo valores N/A)\n",
    "util_stats_rl1 <- c(min(RL1$Utilization, na.rm=TRUE),\n",
    "                    mean(RL1$Utilization, na.rm=TRUE),\n",
    "                    max(RL1$Utilization, na.rm=TRUE))"
   ]
  },
  {
   "cell_type": "code",
   "execution_count": 18,
   "metadata": {},
   "outputs": [
    {
     "data": {
      "text/html": [
       "<ol class=list-inline>\n",
       "\t<li>0.84922619</li>\n",
       "\t<li>0.951697597345021</li>\n",
       "\t<li>0.995</li>\n",
       "</ol>\n"
      ],
      "text/latex": [
       "\\begin{enumerate*}\n",
       "\\item 0.84922619\n",
       "\\item 0.951697597345021\n",
       "\\item 0.995\n",
       "\\end{enumerate*}\n"
      ],
      "text/markdown": [
       "1. 0.84922619\n",
       "2. 0.951697597345021\n",
       "3. 0.995\n",
       "\n",
       "\n"
      ],
      "text/plain": [
       "[1] 0.8492262 0.9516976 0.9950000"
      ]
     },
     "metadata": {},
     "output_type": "display_data"
    }
   ],
   "source": [
    "util_stats_rl1"
   ]
  },
  {
   "cell_type": "code",
   "execution_count": 19,
   "metadata": {},
   "outputs": [
    {
     "data": {
      "text/html": [
       "TRUE"
      ],
      "text/latex": [
       "TRUE"
      ],
      "text/markdown": [
       "TRUE"
      ],
      "text/plain": [
       "[1] TRUE"
      ]
     },
     "metadata": {},
     "output_type": "display_data"
    }
   ],
   "source": [
    "# Quantidade de vezes que esteve abaixo de 90%\n",
    "util_under_90_flag <- length(which(RL1$Utilization < 0.90)) > 0\n",
    "util_under_90_flag"
   ]
  },
  {
   "cell_type": "code",
   "execution_count": 20,
   "metadata": {},
   "outputs": [
    {
     "data": {
      "text/html": [
       "<ol>\n",
       "\t<li>'RL1'</li>\n",
       "\t<li><ol class=list-inline>\n",
       "\t<li>0.84922619</li>\n",
       "\t<li>0.951697597345021</li>\n",
       "\t<li>0.995</li>\n",
       "</ol>\n",
       "</li>\n",
       "\t<li>TRUE</li>\n",
       "</ol>\n"
      ],
      "text/latex": [
       "\\begin{enumerate}\n",
       "\\item 'RL1'\n",
       "\\item \\begin{enumerate*}\n",
       "\\item 0.84922619\n",
       "\\item 0.951697597345021\n",
       "\\item 0.995\n",
       "\\end{enumerate*}\n",
       "\n",
       "\\item TRUE\n",
       "\\end{enumerate}\n"
      ],
      "text/markdown": [
       "1. 'RL1'\n",
       "2. 1. 0.84922619\n",
       "2. 0.951697597345021\n",
       "3. 0.995\n",
       "\n",
       "\n",
       "\n",
       "3. TRUE\n",
       "\n",
       "\n"
      ],
      "text/plain": [
       "[[1]]\n",
       "[1] \"RL1\"\n",
       "\n",
       "[[2]]\n",
       "[1] 0.8492262 0.9516976 0.9950000\n",
       "\n",
       "[[3]]\n",
       "[1] TRUE\n"
      ]
     },
     "metadata": {},
     "output_type": "display_data"
    }
   ],
   "source": [
    "# Criando uma lista\n",
    "lista1 <- list(\"RL1\",util_stats_rl1,util_under_90_flag)\n",
    "lista1"
   ]
  },
  {
   "cell_type": "code",
   "execution_count": 21,
   "metadata": {},
   "outputs": [],
   "source": [
    "# Criando uma lista e atribuindo nome para colunas:\n",
    "# lista1 <- list(Machine=\"RL1\",Stats=util_stats_rl1,LowThreshold=util_under_90_flag)"
   ]
  },
  {
   "cell_type": "code",
   "execution_count": 22,
   "metadata": {},
   "outputs": [],
   "source": [
    "# Nomeando as colunas da lista\n",
    "names(lista1) <- c(\"Machine\",\"Stats\",\"LowThreshold\")"
   ]
  },
  {
   "cell_type": "code",
   "execution_count": 23,
   "metadata": {},
   "outputs": [
    {
     "data": {
      "text/html": [
       "<dl>\n",
       "\t<dt>$Machine</dt>\n",
       "\t\t<dd>'RL1'</dd>\n",
       "\t<dt>$Stats</dt>\n",
       "\t\t<dd><ol class=list-inline>\n",
       "\t<li>0.84922619</li>\n",
       "\t<li>0.951697597345021</li>\n",
       "\t<li>0.995</li>\n",
       "</ol>\n",
       "</dd>\n",
       "\t<dt>$LowThreshold</dt>\n",
       "\t\t<dd>TRUE</dd>\n",
       "</dl>\n"
      ],
      "text/latex": [
       "\\begin{description}\n",
       "\\item[\\$Machine] 'RL1'\n",
       "\\item[\\$Stats] \\begin{enumerate*}\n",
       "\\item 0.84922619\n",
       "\\item 0.951697597345021\n",
       "\\item 0.995\n",
       "\\end{enumerate*}\n",
       "\n",
       "\\item[\\$LowThreshold] TRUE\n",
       "\\end{description}\n"
      ],
      "text/markdown": [
       "$Machine\n",
       ":   'RL1'\n",
       "$Stats\n",
       ":   1. 0.84922619\n",
       "2. 0.951697597345021\n",
       "3. 0.995\n",
       "\n",
       "\n",
       "\n",
       "$LowThreshold\n",
       ":   TRUE\n",
       "\n",
       "\n"
      ],
      "text/plain": [
       "$Machine\n",
       "[1] \"RL1\"\n",
       "\n",
       "$Stats\n",
       "[1] 0.8492262 0.9516976 0.9950000\n",
       "\n",
       "$LowThreshold\n",
       "[1] TRUE\n"
      ]
     },
     "metadata": {},
     "output_type": "display_data"
    }
   ],
   "source": [
    "lista1"
   ]
  },
  {
   "cell_type": "code",
   "execution_count": 24,
   "metadata": {},
   "outputs": [
    {
     "data": {
      "text/html": [
       "<strong>$Stats</strong> = <ol class=list-inline>\n",
       "\t<li>0.84922619</li>\n",
       "\t<li>0.951697597345021</li>\n",
       "\t<li>0.995</li>\n",
       "</ol>\n"
      ],
      "text/latex": [
       "\\textbf{\\$Stats} = \\begin{enumerate*}\n",
       "\\item 0.84922619\n",
       "\\item 0.951697597345021\n",
       "\\item 0.995\n",
       "\\end{enumerate*}\n"
      ],
      "text/markdown": [
       "**$Stats** = 1. 0.84922619\n",
       "2. 0.951697597345021\n",
       "3. 0.995\n",
       "\n",
       "\n"
      ],
      "text/plain": [
       "$Stats\n",
       "[1] 0.8492262 0.9516976 0.9950000\n"
      ]
     },
     "metadata": {},
     "output_type": "display_data"
    },
    {
     "data": {
      "text/html": [
       "'list'"
      ],
      "text/latex": [
       "'list'"
      ],
      "text/markdown": [
       "'list'"
      ],
      "text/plain": [
       "[1] \"list\""
      ]
     },
     "metadata": {},
     "output_type": "display_data"
    }
   ],
   "source": [
    "# Acessar elementos da lista, TIPO 1\n",
    "lista1[2]\n",
    "typeof(lista1[2])"
   ]
  },
  {
   "cell_type": "code",
   "execution_count": 25,
   "metadata": {},
   "outputs": [
    {
     "data": {
      "text/html": [
       "<ol class=list-inline>\n",
       "\t<li>0.84922619</li>\n",
       "\t<li>0.951697597345021</li>\n",
       "\t<li>0.995</li>\n",
       "</ol>\n"
      ],
      "text/latex": [
       "\\begin{enumerate*}\n",
       "\\item 0.84922619\n",
       "\\item 0.951697597345021\n",
       "\\item 0.995\n",
       "\\end{enumerate*}\n"
      ],
      "text/markdown": [
       "1. 0.84922619\n",
       "2. 0.951697597345021\n",
       "3. 0.995\n",
       "\n",
       "\n"
      ],
      "text/plain": [
       "[1] 0.8492262 0.9516976 0.9950000"
      ]
     },
     "metadata": {},
     "output_type": "display_data"
    },
    {
     "data": {
      "text/html": [
       "'double'"
      ],
      "text/latex": [
       "'double'"
      ],
      "text/markdown": [
       "'double'"
      ],
      "text/plain": [
       "[1] \"double\""
      ]
     },
     "metadata": {},
     "output_type": "display_data"
    }
   ],
   "source": [
    "# Acessar elementos da lista, TIPO 2\n",
    "lista1[[2]]\n",
    "typeof(lista1[[2]])"
   ]
  },
  {
   "cell_type": "code",
   "execution_count": 26,
   "metadata": {},
   "outputs": [
    {
     "data": {
      "text/html": [
       "0.995"
      ],
      "text/latex": [
       "0.995"
      ],
      "text/markdown": [
       "0.995"
      ],
      "text/plain": [
       "[1] 0.995"
      ]
     },
     "metadata": {},
     "output_type": "display_data"
    },
    {
     "data": {
      "text/html": [
       "'double'"
      ],
      "text/latex": [
       "'double'"
      ],
      "text/markdown": [
       "'double'"
      ],
      "text/plain": [
       "[1] \"double\""
      ]
     },
     "metadata": {},
     "output_type": "display_data"
    }
   ],
   "source": [
    "# Acessando o terceiro elementos da lista, TIPO 3\n",
    "lista1$Stats[3]\n",
    "typeof(lista1$Stats[3])"
   ]
  },
  {
   "cell_type": "code",
   "execution_count": 27,
   "metadata": {},
   "outputs": [
    {
     "data": {
      "text/html": [
       "<dl>\n",
       "\t<dt>$Machine</dt>\n",
       "\t\t<dd>'RL1'</dd>\n",
       "\t<dt>$Stats</dt>\n",
       "\t\t<dd><ol class=list-inline>\n",
       "\t<li>0.84922619</li>\n",
       "\t<li>0.951697597345021</li>\n",
       "\t<li>0.995</li>\n",
       "</ol>\n",
       "</dd>\n",
       "\t<dt>$LowThreshold</dt>\n",
       "\t\t<dd>TRUE</dd>\n",
       "\t<dt>[[4]]</dt>\n",
       "\t\t<dd>'New Information'</dd>\n",
       "</dl>\n"
      ],
      "text/latex": [
       "\\begin{description}\n",
       "\\item[\\$Machine] 'RL1'\n",
       "\\item[\\$Stats] \\begin{enumerate*}\n",
       "\\item 0.84922619\n",
       "\\item 0.951697597345021\n",
       "\\item 0.995\n",
       "\\end{enumerate*}\n",
       "\n",
       "\\item[\\$LowThreshold] TRUE\n",
       "\\item[{[[4]]}] 'New Information'\n",
       "\\end{description}\n"
      ],
      "text/markdown": [
       "$Machine\n",
       ":   'RL1'\n",
       "$Stats\n",
       ":   1. 0.84922619\n",
       "2. 0.951697597345021\n",
       "3. 0.995\n",
       "\n",
       "\n",
       "\n",
       "$LowThreshold\n",
       ":   TRUE\n",
       "[[4]]\n",
       ":   'New Information'\n",
       "\n",
       "\n"
      ],
      "text/plain": [
       "$Machine\n",
       "[1] \"RL1\"\n",
       "\n",
       "$Stats\n",
       "[1] 0.8492262 0.9516976 0.9950000\n",
       "\n",
       "$LowThreshold\n",
       "[1] TRUE\n",
       "\n",
       "[[4]]\n",
       "[1] \"New Information\"\n"
      ]
     },
     "metadata": {},
     "output_type": "display_data"
    }
   ],
   "source": [
    "# Adicionando novo componente\n",
    "lista1[4] <- \"New Information\"\n",
    "lista1"
   ]
  },
  {
   "cell_type": "code",
   "execution_count": 28,
   "metadata": {},
   "outputs": [],
   "source": [
    "# Deletando novo componente\n",
    "lista1[4] <-NULL"
   ]
  },
  {
   "cell_type": "code",
   "execution_count": 29,
   "metadata": {},
   "outputs": [
    {
     "data": {
      "text/plain": [
       "$Machine\n",
       "[1] \"RL1\"\n",
       "\n",
       "$Stats\n",
       "[1] 0.8492262 0.9516976 0.9950000\n",
       "\n",
       "$LowThreshold\n",
       "[1] TRUE\n",
       "\n",
       "$UnknownHours\n",
       "[1] \"2016-09-01 00:00:00 -03\" \"2016-09-01 01:00:00 -03\"\n",
       "[3] \"2016-09-01 02:00:00 -03\" \"2016-09-01 03:00:00 -03\"\n",
       "[5] \"2016-09-01 04:00:00 -03\" \"2016-09-01 05:00:00 -03\"\n",
       "[7] \"2016-09-01 06:00:00 -03\"\n"
      ]
     },
     "metadata": {},
     "output_type": "display_data"
    }
   ],
   "source": [
    "# Criando lista de datas com Utilization == NA\n",
    "lista1$UnknownHours <- RL1[is.na(RL1$Utilization),\"PosixTime\"]\n",
    "lista1"
   ]
  },
  {
   "cell_type": "code",
   "execution_count": 30,
   "metadata": {},
   "outputs": [
    {
     "data": {
      "text/plain": [
       "$Machine\n",
       "[1] \"RL1\"\n",
       "\n",
       "$Stats\n",
       "[1] 0.8492262 0.9516976 0.9950000\n",
       "\n",
       "$LowThreshold\n",
       "[1] TRUE\n",
       "\n",
       "$UnknownHours\n",
       "[1] \"2016-09-01 00:00:00 -03\" \"2016-09-01 01:00:00 -03\"\n",
       "[3] \"2016-09-01 02:00:00 -03\" \"2016-09-01 03:00:00 -03\"\n",
       "[5] \"2016-09-01 04:00:00 -03\" \"2016-09-01 05:00:00 -03\"\n",
       "[7] \"2016-09-01 06:00:00 -03\"\n",
       "\n",
       "$Data\n",
       "              PosixTime Utilization Percent.Idle Machine\n",
       "1   2016-09-01 00:00:00          NA           NA     RL1\n",
       "2   2016-09-01 01:00:00          NA           NA     RL1\n",
       "3   2016-09-01 02:00:00          NA           NA     RL1\n",
       "4   2016-09-01 03:00:00          NA           NA     RL1\n",
       "5   2016-09-01 04:00:00          NA           NA     RL1\n",
       "6   2016-09-01 05:00:00          NA           NA     RL1\n",
       "7   2016-09-01 06:00:00          NA           NA     RL1\n",
       "8   2016-09-01 07:00:00   0.9800595  0.019940476     RL1\n",
       "9   2016-09-01 08:00:00   0.9800298  0.019970238     RL1\n",
       "10  2016-09-01 09:00:00   0.9788095  0.021190476     RL1\n",
       "11  2016-09-01 10:00:00   0.9862500  0.013750000     RL1\n",
       "12  2016-09-01 11:00:00   0.9808333  0.019166667     RL1\n",
       "13  2016-09-01 12:00:00   0.9691369  0.030863095     RL1\n",
       "14  2016-09-01 13:00:00   0.9691369  0.030863095     RL1\n",
       "15  2016-09-01 14:00:00   0.9662202  0.033779762     RL1\n",
       "16  2016-09-01 15:00:00   0.9575298  0.042470238     RL1\n",
       "17  2016-09-01 16:00:00   0.9575000  0.042500000     RL1\n",
       "18  2016-09-01 17:00:00   0.9664286  0.033571429     RL1\n",
       "19  2016-09-01 18:00:00   0.9631845  0.036815476     RL1\n",
       "20  2016-09-01 19:00:00   0.9645833  0.035416667     RL1\n",
       "21  2016-09-01 20:00:00   0.9810119  0.018988095     RL1\n",
       "22  2016-09-01 21:00:00   0.9810119  0.018988095     RL1\n",
       "23  2016-09-01 22:00:00   0.9839881  0.016011905     RL1\n",
       "24  2016-09-01 23:00:00   0.9817560  0.018244048     RL1\n",
       "25  2016-09-02 00:00:00   0.9816071  0.018392857     RL1\n",
       "26  2016-09-02 01:00:00   0.9562798  0.043720238     RL1\n",
       "27  2016-09-02 02:00:00   0.9595238  0.040476190     RL1\n",
       "28  2016-09-02 03:00:00   0.9519345  0.048065476     RL1\n",
       "29  2016-09-02 04:00:00   0.9519345  0.048065476     RL1\n",
       "30  2016-09-02 05:00:00   0.9063988  0.093601190     RL1\n",
       "31  2016-09-02 06:00:00   0.8793750  0.120625000     RL1\n",
       "32  2016-09-02 07:00:00   0.8646131  0.135386905     RL1\n",
       "33  2016-09-02 08:00:00   0.8647917  0.135208333     RL1\n",
       "34  2016-09-02 09:00:00   0.8901190  0.109880952     RL1\n",
       "35  2016-09-02 10:00:00   0.8901190  0.109880952     RL1\n",
       "36  2016-09-02 11:00:00   0.8699107  0.130089286     RL1\n",
       "37  2016-09-02 12:00:00   0.8634226  0.136577381     RL1\n",
       "38  2016-09-02 13:00:00   0.9089583  0.091041667     RL1\n",
       "39  2016-09-02 14:00:00   0.9250298  0.074970238     RL1\n",
       "40  2016-09-02 15:00:00   0.9483036  0.051696429     RL1\n",
       "41  2016-09-02 16:00:00   0.9483333  0.051666667     RL1\n",
       "42  2016-09-02 17:00:00   0.9482440  0.051755952     RL1\n",
       "43  2016-09-02 18:00:00   0.9482440  0.051755952     RL1\n",
       "44  2016-09-02 19:00:00   0.9731548  0.026845238     RL1\n",
       "45  2016-09-02 20:00:00   0.9793750  0.020625000     RL1\n",
       "46  2016-09-02 21:00:00   0.9749107  0.025089286     RL1\n",
       "47  2016-09-02 22:00:00   0.9857738  0.014226190     RL1\n",
       "48  2016-09-02 23:00:00   0.9881845  0.011815476     RL1\n",
       "49  2016-09-03 00:00:00   0.9675298  0.032470238     RL1\n",
       "50  2016-09-03 01:00:00   0.9671131  0.032886905     RL1\n",
       "51  2016-09-03 02:00:00   0.9670238  0.032976190     RL1\n",
       "52  2016-09-03 03:00:00   0.9669048  0.033095238     RL1\n",
       "53  2016-09-03 04:00:00   0.9500298  0.049970238     RL1\n",
       "54  2016-09-03 05:00:00   0.9344940  0.065505952     RL1\n",
       "55  2016-09-03 06:00:00   0.9297619  0.070238095     RL1\n",
       "56  2016-09-03 07:00:00   0.9293452  0.070654762     RL1\n",
       "57  2016-09-03 08:00:00   0.9500000  0.050000000     RL1\n",
       "58  2016-09-03 09:00:00   0.9499107  0.050089286     RL1\n",
       "59  2016-09-03 10:00:00   0.9493452  0.050654762     RL1\n",
       "60  2016-09-03 11:00:00   0.9563690  0.043630952     RL1\n",
       "61  2016-09-03 12:00:00   0.9694345  0.030565476     RL1\n",
       "62  2016-09-03 13:00:00   0.9892560  0.010744048     RL1\n",
       "63  2016-09-03 14:00:00   0.9940774  0.005922619     RL1\n",
       "64  2016-09-03 15:00:00   0.9944940  0.005505952     RL1\n",
       "65  2016-09-03 16:00:00   0.9875893  0.012410714     RL1\n",
       "66  2016-09-03 17:00:00   0.9751190  0.024880952     RL1\n",
       "67  2016-09-03 18:00:00   0.9757738  0.024226190     RL1\n",
       "68  2016-09-03 19:00:00   0.9689881  0.031011905     RL1\n",
       "69  2016-09-03 20:00:00   0.9730655  0.026934524     RL1\n",
       "70  2016-09-03 21:00:00   0.9679167  0.032083333     RL1\n",
       "71  2016-09-03 22:00:00   0.9679167  0.032083333     RL1\n",
       "72  2016-09-03 23:00:00   0.9676190  0.032380952     RL1\n",
       "73  2016-09-04 00:00:00   0.9745238  0.025476190     RL1\n",
       "74  2016-09-04 01:00:00   0.9872321  0.012767857     RL1\n",
       "75  2016-09-04 02:00:00   0.9864583  0.013541667     RL1\n",
       "76  2016-09-04 03:00:00   0.9844643  0.015535714     RL1\n",
       "77  2016-09-04 04:00:00   0.9843155  0.015684524     RL1\n",
       "78  2016-09-04 05:00:00   0.9730357  0.026964286     RL1\n",
       "79  2016-09-04 06:00:00   0.9718750  0.028125000     RL1\n",
       "80  2016-09-04 07:00:00   0.9713690  0.028630952     RL1\n",
       "81  2016-09-04 08:00:00   0.9712798  0.028720238     RL1\n",
       "82  2016-09-04 09:00:00   0.9713095  0.028690476     RL1\n",
       "83  2016-09-04 10:00:00   0.9720833  0.027916667     RL1\n",
       "84  2016-09-04 11:00:00   0.9808036  0.019196429     RL1\n",
       "85  2016-09-04 12:00:00   0.9775298  0.022470238     RL1\n",
       "86  2016-09-04 13:00:00   0.9931548  0.006845238     RL1\n",
       "87  2016-09-04 14:00:00   0.9936905  0.006309524     RL1\n",
       "88  2016-09-04 15:00:00   0.9928869  0.007113095     RL1\n",
       "89  2016-09-04 16:00:00   0.9929762  0.007023810     RL1\n",
       "90  2016-09-04 17:00:00   0.9840476  0.015952381     RL1\n",
       "91  2016-09-04 18:00:00   0.9840476  0.015952381     RL1\n",
       "92  2016-09-04 19:00:00   0.9816369  0.018363095     RL1\n",
       "93  2016-09-04 20:00:00   0.9746429  0.025357143     RL1\n",
       "94  2016-09-04 21:00:00   0.9732440  0.026755952     RL1\n",
       "95  2016-09-04 22:00:00   0.9675000  0.032500000     RL1\n",
       "96  2016-09-04 23:00:00   0.9691071  0.030892857     RL1\n",
       "97  2016-09-05 00:00:00   0.9576786  0.042321429     RL1\n",
       "98  2016-09-05 01:00:00   0.9539881  0.046011905     RL1\n",
       "99  2016-09-05 02:00:00   0.9532440  0.046755952     RL1\n",
       "100 2016-09-05 03:00:00   0.9258631  0.074136905     RL1\n",
       "101 2016-09-05 04:00:00   0.9362798  0.063720238     RL1\n",
       "102 2016-09-05 05:00:00   0.9242262  0.075773810     RL1\n",
       "103 2016-09-05 06:00:00   0.9305952  0.069404762     RL1\n",
       "104 2016-09-05 07:00:00   0.9305952  0.069404762     RL1\n",
       "105 2016-09-05 08:00:00   0.9417262  0.058273810     RL1\n",
       "106 2016-09-05 09:00:00   0.9546726  0.045327381     RL1\n",
       "107 2016-09-05 10:00:00   0.9327381  0.067261905     RL1\n",
       "108 2016-09-05 11:00:00   0.9550298  0.044970238     RL1\n",
       "109 2016-09-05 12:00:00   0.9303571  0.069642857     RL1\n",
       "110 2016-09-05 13:00:00   0.9376488  0.062351190     RL1\n",
       "111 2016-09-05 14:00:00   0.9372321  0.062767857     RL1\n",
       "112 2016-09-05 15:00:00   0.9249405  0.075059524     RL1\n",
       "113 2016-09-05 16:00:00   0.9252381  0.074761905     RL1\n",
       "114 2016-09-05 17:00:00   0.9042560  0.095744048     RL1\n",
       "115 2016-09-05 18:00:00   0.9251786  0.074821429     RL1\n",
       "116 2016-09-05 19:00:00   0.9327381  0.067261905     RL1\n",
       "117 2016-09-05 20:00:00   0.9574107  0.042589286     RL1\n",
       "118 2016-09-05 21:00:00   0.9631548  0.036845238     RL1\n",
       "119 2016-09-05 22:00:00   0.9539881  0.046011905     RL1\n",
       "120 2016-09-05 23:00:00   0.9501786  0.049821429     RL1\n",
       "121 2016-09-06 00:00:00   0.9494048  0.050595238     RL1\n",
       "122 2016-09-06 01:00:00   0.9580655  0.041934524     RL1\n",
       "123 2016-09-06 02:00:00   0.9560417  0.043958333     RL1\n",
       "124 2016-09-06 03:00:00   0.9549405  0.045059524     RL1\n",
       "125 2016-09-06 04:00:00   0.9355655  0.064434524     RL1\n",
       "126 2016-09-06 05:00:00   0.9181250  0.081875000     RL1\n",
       "127 2016-09-06 06:00:00   0.9266369  0.073363095     RL1\n",
       "128 2016-09-06 07:00:00   0.9412202  0.058779762     RL1\n",
       "129 2016-09-06 08:00:00   0.9216667  0.078333333     RL1\n",
       "130 2016-09-06 09:00:00   0.9184226  0.081577381     RL1\n",
       "131 2016-09-06 10:00:00   0.9219643  0.078035714     RL1\n",
       "132 2016-09-06 11:00:00   0.9230655  0.076934524     RL1\n",
       "133 2016-09-06 12:00:00   0.9424405  0.057559524     RL1\n",
       "134 2016-09-06 13:00:00   0.9612798  0.038720238     RL1\n",
       "135 2016-09-06 14:00:00   0.9599107  0.040089286     RL1\n",
       "136 2016-09-06 15:00:00   0.9498512  0.050148810     RL1\n",
       "137 2016-09-06 16:00:00   0.9701786  0.029821429     RL1\n",
       "138 2016-09-06 17:00:00   0.9856548  0.014345238     RL1\n",
       "139 2016-09-06 18:00:00   0.9845238  0.015476190     RL1\n",
       "140 2016-09-06 19:00:00   0.9845238  0.015476190     RL1\n",
       "141 2016-09-06 20:00:00   0.9845238  0.015476190     RL1\n",
       "142 2016-09-06 21:00:00   0.9597321  0.040267857     RL1\n",
       "143 2016-09-06 22:00:00   0.9570833  0.042916667     RL1\n",
       "144 2016-09-06 23:00:00   0.9546726  0.045327381     RL1\n",
       "145 2016-09-07 00:00:00   0.9546726  0.045327381     RL1\n",
       "146 2016-09-07 01:00:00   0.9533631  0.046636905     RL1\n",
       "147 2016-09-07 02:00:00   0.9444345  0.055565476     RL1\n",
       "148 2016-09-07 03:00:00   0.9444345  0.055565476     RL1\n",
       "149 2016-09-07 04:00:00   0.9444345  0.055565476     RL1\n",
       "150 2016-09-07 05:00:00   0.9584226  0.041577381     RL1\n",
       "151 2016-09-07 06:00:00   0.9635119  0.036488095     RL1\n",
       "152 2016-09-07 07:00:00   0.9720833  0.027916667     RL1\n",
       "153 2016-09-07 08:00:00   0.9687500  0.031250000     RL1\n",
       "154 2016-09-07 09:00:00   0.9690774  0.030922619     RL1\n",
       "155 2016-09-07 10:00:00   0.9793750  0.020625000     RL1\n",
       "156 2016-09-07 11:00:00   0.9648214  0.035178571     RL1\n",
       "157 2016-09-07 12:00:00   0.9486607  0.051339286     RL1\n",
       "158 2016-09-07 13:00:00   0.9580952  0.041904762     RL1\n",
       "159 2016-09-07 14:00:00   0.9580952  0.041904762     RL1\n",
       "160 2016-09-07 15:00:00   0.9434821  0.056517857     RL1\n",
       "161 2016-09-07 16:00:00   0.9320833  0.067916667     RL1\n",
       "162 2016-09-07 17:00:00   0.9331548  0.066845238     RL1\n",
       "163 2016-09-07 18:00:00   0.9331548  0.066845238     RL1\n",
       "164 2016-09-07 19:00:00   0.9468452  0.053154762     RL1\n",
       "165 2016-09-07 20:00:00   0.9630060  0.036994048     RL1\n",
       "166 2016-09-07 21:00:00   0.9534821  0.046517857     RL1\n",
       "167 2016-09-07 22:00:00   0.9529167  0.047083333     RL1\n",
       "168 2016-09-07 23:00:00   0.9729464  0.027053571     RL1\n",
       "169 2016-09-08 00:00:00   0.9851786  0.014821429     RL1\n",
       "170 2016-09-08 01:00:00   0.9846131  0.015386905     RL1\n",
       "171 2016-09-08 02:00:00   0.9841667  0.015833333     RL1\n",
       "172 2016-09-08 03:00:00   0.9764286  0.023571429     RL1\n",
       "173 2016-09-08 04:00:00   0.9758036  0.024196429     RL1\n",
       "174 2016-09-08 05:00:00   0.9854167  0.014583333     RL1\n",
       "175 2016-09-08 06:00:00   0.9859821  0.014017857     RL1\n",
       "176 2016-09-08 07:00:00   0.9844048  0.015595238     RL1\n",
       "177 2016-09-08 08:00:00   0.9863393  0.013660714     RL1\n",
       "178 2016-09-08 09:00:00   0.9859524  0.014047619     RL1\n",
       "179 2016-09-08 10:00:00   0.9863988  0.013601190     RL1\n",
       "180 2016-09-08 11:00:00   0.9936310  0.006369048     RL1\n",
       "181 2016-09-08 12:00:00   0.9939583  0.006041667     RL1\n",
       "182 2016-09-08 13:00:00   0.9950000  0.005000000     RL1\n",
       "183 2016-09-08 14:00:00   0.9950000  0.005000000     RL1\n",
       "184 2016-09-08 15:00:00   0.9825000  0.017500000     RL1\n",
       "185 2016-09-08 16:00:00   0.9830655  0.016934524     RL1\n",
       "186 2016-09-08 17:00:00   0.9759821  0.024017857     RL1\n",
       "187 2016-09-08 18:00:00   0.9671131  0.032886905     RL1\n",
       "188 2016-09-08 19:00:00   0.9486607  0.051339286     RL1\n",
       "189 2016-09-08 20:00:00   0.9469940  0.053005952     RL1\n",
       "190 2016-09-08 21:00:00   0.9433036  0.056696429     RL1\n",
       "191 2016-09-08 22:00:00   0.9433036  0.056696429     RL1\n",
       "192 2016-09-08 23:00:00   0.9566071  0.043392857     RL1\n",
       "193 2016-09-09 00:00:00   0.9566071  0.043392857     RL1\n",
       "194 2016-09-09 01:00:00   0.9609821  0.039017857     RL1\n",
       "195 2016-09-09 02:00:00   0.9625595  0.037440476     RL1\n",
       "196 2016-09-09 03:00:00   0.9621429  0.037857143     RL1\n",
       "197 2016-09-09 04:00:00   0.9641071  0.035892857     RL1\n",
       "198 2016-09-09 05:00:00   0.9680357  0.031964286     RL1\n",
       "199 2016-09-09 06:00:00   0.9665774  0.033422619     RL1\n",
       "200 2016-09-09 07:00:00   0.9673512  0.032648810     RL1\n",
       "201 2016-09-09 08:00:00   0.9510417  0.048958333     RL1\n",
       "202 2016-09-09 09:00:00   0.9547024  0.045297619     RL1\n",
       "203 2016-09-09 10:00:00   0.9606548  0.039345238     RL1\n",
       "204 2016-09-09 11:00:00   0.9759821  0.024017857     RL1\n",
       "205 2016-09-09 12:00:00   0.9738393  0.026160714     RL1\n",
       "206 2016-09-09 13:00:00   0.9716667  0.028333333     RL1\n",
       "207 2016-09-09 14:00:00   0.9678274  0.032172619     RL1\n",
       "208 2016-09-09 15:00:00   0.9644345  0.035565476     RL1\n",
       "209 2016-09-09 16:00:00   0.9674702  0.032529762     RL1\n",
       "210 2016-09-09 17:00:00   0.9674702  0.032529762     RL1\n",
       "211 2016-09-09 18:00:00   0.9653869  0.034613095     RL1\n",
       "212 2016-09-09 19:00:00   0.9575298  0.042470238     RL1\n",
       "213 2016-09-09 20:00:00   0.9596726  0.040327381     RL1\n",
       "214 2016-09-09 21:00:00   0.9523512  0.047648810     RL1\n",
       "215 2016-09-09 22:00:00   0.9576488  0.042351190     RL1\n",
       "216 2016-09-09 23:00:00   0.9605060  0.039494048     RL1\n",
       "217 2016-09-10 00:00:00   0.9640476  0.035952381     RL1\n",
       "218 2016-09-10 01:00:00   0.9640476  0.035952381     RL1\n",
       "219 2016-09-10 02:00:00   0.9314583  0.068541667     RL1\n",
       "220 2016-09-10 03:00:00   0.9407738  0.059226190     RL1\n",
       "221 2016-09-10 04:00:00   0.9378869  0.062113095     RL1\n",
       "222 2016-09-10 05:00:00   0.9473810  0.052619048     RL1\n",
       "223 2016-09-10 06:00:00   0.9449405  0.055059524     RL1\n",
       "224 2016-09-10 07:00:00   0.9130655  0.086934524     RL1\n",
       "225 2016-09-10 08:00:00   0.9212202  0.078779762     RL1\n",
       "226 2016-09-10 09:00:00   0.9206548  0.079345238     RL1\n",
       "227 2016-09-10 10:00:00   0.9507738  0.049226190     RL1\n",
       "228 2016-09-10 11:00:00   0.9530060  0.046994048     RL1\n",
       "229 2016-09-10 12:00:00   0.9517560  0.048244048     RL1\n",
       "230 2016-09-10 13:00:00   0.9497619  0.050238095     RL1\n",
       "231 2016-09-10 14:00:00   0.9441369  0.055863095     RL1\n",
       "232 2016-09-10 15:00:00   0.9743452  0.025654762     RL1\n",
       "233 2016-09-10 16:00:00   0.9728571  0.027142857     RL1\n",
       "234 2016-09-10 17:00:00   0.9662500  0.033750000     RL1\n",
       "235 2016-09-10 18:00:00   0.9695833  0.030416667     RL1\n",
       "236 2016-09-10 19:00:00   0.9582738  0.041726190     RL1\n",
       "237 2016-09-10 20:00:00   0.9595536  0.040446429     RL1\n",
       "238 2016-09-10 21:00:00   0.9615476  0.038452381     RL1\n",
       "239 2016-09-10 22:00:00   0.9667857  0.033214286     RL1\n",
       "240 2016-09-10 23:00:00   0.9689881  0.031011905     RL1\n",
       "241 2016-09-11 00:00:00   0.9720536  0.027946429     RL1\n",
       "242 2016-09-11 01:00:00   0.9784524  0.021547619     RL1\n",
       "243 2016-09-11 02:00:00   0.9774702  0.022529762     RL1\n",
       "244 2016-09-11 03:00:00   0.9880655  0.011934524     RL1\n",
       "245 2016-09-11 04:00:00   0.9851786  0.014821429     RL1\n",
       "246 2016-09-11 05:00:00   0.9785119  0.021488095     RL1\n",
       "247 2016-09-11 06:00:00   0.9770536  0.022946429     RL1\n",
       "248 2016-09-11 07:00:00   0.9710417  0.028958333     RL1\n",
       "249 2016-09-11 08:00:00   0.9578869  0.042113095     RL1\n",
       "250 2016-09-11 09:00:00   0.9586607  0.041339286     RL1\n",
       "251 2016-09-11 10:00:00   0.9622024  0.037797619     RL1\n",
       "252 2016-09-11 11:00:00   0.9641369  0.035863095     RL1\n",
       "253 2016-09-11 12:00:00   0.9694643  0.030535714     RL1\n",
       "254 2016-09-11 13:00:00   0.9591369  0.040863095     RL1\n",
       "255 2016-09-11 14:00:00   0.9525298  0.047470238     RL1\n",
       "256 2016-09-11 15:00:00   0.9577976  0.042202381     RL1\n",
       "257 2016-09-11 16:00:00   0.9536310  0.046369048     RL1\n",
       "258 2016-09-11 17:00:00   0.9536310  0.046369048     RL1\n",
       "259 2016-09-11 18:00:00   0.9487798  0.051220238     RL1\n",
       "260 2016-09-11 19:00:00   0.9351786  0.064821429     RL1\n",
       "261 2016-09-11 20:00:00   0.9329167  0.067083333     RL1\n",
       "262 2016-09-11 21:00:00   0.9499107  0.050089286     RL1\n",
       "263 2016-09-11 22:00:00   0.9596726  0.040327381     RL1\n",
       "264 2016-09-11 23:00:00   0.9426488  0.057351190     RL1\n",
       "265 2016-09-12 00:00:00   0.9570536  0.042946429     RL1\n",
       "266 2016-09-12 01:00:00   0.9441964  0.055803571     RL1\n",
       "267 2016-09-12 02:00:00   0.9490476  0.050952381     RL1\n",
       "268 2016-09-12 03:00:00   0.9595536  0.040446429     RL1\n",
       "269 2016-09-12 04:00:00   0.9622321  0.037767857     RL1\n",
       "270 2016-09-12 05:00:00   0.9589286  0.041071429     RL1\n",
       "271 2016-09-12 06:00:00   0.9439286  0.056071429     RL1\n",
       "272 2016-09-12 07:00:00   0.9605060  0.039494048     RL1\n",
       "273 2016-09-12 08:00:00   0.9484821  0.051517857     RL1\n",
       "274 2016-09-12 09:00:00   0.9613393  0.038660714     RL1\n",
       "275 2016-09-12 10:00:00   0.9562202  0.043779762     RL1\n",
       "276 2016-09-12 11:00:00   0.9584821  0.041517857     RL1\n",
       "277 2016-09-12 12:00:00   0.9508631  0.049136905     RL1\n",
       "278 2016-09-12 13:00:00   0.9541667  0.045833333     RL1\n",
       "279 2016-09-12 14:00:00   0.9641964  0.035803571     RL1\n",
       "280 2016-09-12 15:00:00   0.9653869  0.034613095     RL1\n",
       "281 2016-09-12 16:00:00   0.9803274  0.019672619     RL1\n",
       "282 2016-09-12 17:00:00   0.9444048  0.055595238     RL1\n",
       "283 2016-09-12 18:00:00   0.9495238  0.050476190     RL1\n",
       "284 2016-09-12 19:00:00   0.9503571  0.049642857     RL1\n",
       "285 2016-09-12 20:00:00   0.9576786  0.042321429     RL1\n",
       "286 2016-09-12 21:00:00   0.9558036  0.044196429     RL1\n",
       "287 2016-09-12 22:00:00   0.9511607  0.048839286     RL1\n",
       "288 2016-09-12 23:00:00   0.9480952  0.051904762     RL1\n",
       "289 2016-09-13 00:00:00   0.9480952  0.051904762     RL1\n",
       "290 2016-09-13 01:00:00   0.9809524  0.019047619     RL1\n",
       "291 2016-09-13 02:00:00   0.9792857  0.020714286     RL1\n",
       "292 2016-09-13 03:00:00   0.9649702  0.035029762     RL1\n",
       "293 2016-09-13 04:00:00   0.9652679  0.034732143     RL1\n",
       "294 2016-09-13 05:00:00   0.9658333  0.034166667     RL1\n",
       "295 2016-09-13 06:00:00   0.9754167  0.024583333     RL1\n",
       "296 2016-09-13 07:00:00   0.9784821  0.021517857     RL1\n",
       "297 2016-09-13 08:00:00   0.9723512  0.027648810     RL1\n",
       "298 2016-09-13 09:00:00   0.9685119  0.031488095     RL1\n",
       "299 2016-09-13 10:00:00   0.9694048  0.030595238     RL1\n",
       "300 2016-09-13 11:00:00   0.9710417  0.028958333     RL1\n",
       "301 2016-09-13 12:00:00   0.9710417  0.028958333     RL1\n",
       "302 2016-09-13 13:00:00   0.9723512  0.027648810     RL1\n",
       "303 2016-09-13 14:00:00   0.9681845  0.031815476     RL1\n",
       "304 2016-09-13 15:00:00   0.9573810  0.042619048     RL1\n",
       "305 2016-09-13 16:00:00   0.9480060  0.051994048     RL1\n",
       "306 2016-09-13 17:00:00   0.9549107  0.045089286     RL1\n",
       "307 2016-09-13 18:00:00   0.9503274  0.049672619     RL1\n",
       "308 2016-09-13 19:00:00   0.9622024  0.037797619     RL1\n",
       "309 2016-09-13 20:00:00   0.9576786  0.042321429     RL1\n",
       "310 2016-09-13 21:00:00   0.9572917  0.042708333     RL1\n",
       "311 2016-09-13 22:00:00   0.9625893  0.037410714     RL1\n",
       "312 2016-09-13 23:00:00   0.9617262  0.038273810     RL1\n",
       "313 2016-09-14 00:00:00   0.9753869  0.024613095     RL1\n",
       "314 2016-09-14 01:00:00   0.9738988  0.026101190     RL1\n",
       "315 2016-09-14 02:00:00   0.9785417  0.021458333     RL1\n",
       "316 2016-09-14 03:00:00   0.9661905  0.033809524     RL1\n",
       "317 2016-09-14 04:00:00   0.9686905  0.031309524     RL1\n",
       "318 2016-09-14 05:00:00   0.9614286  0.038571429     RL1\n",
       "319 2016-09-14 06:00:00   0.9514881  0.048511905     RL1\n",
       "320 2016-09-14 07:00:00   0.9561310  0.043869048     RL1\n",
       "321 2016-09-14 08:00:00   0.9434821  0.056517857     RL1\n",
       "322 2016-09-14 09:00:00   0.9332738  0.066726190     RL1\n",
       "323 2016-09-14 10:00:00   0.9205357  0.079464286     RL1\n",
       "324 2016-09-14 11:00:00   0.9214881  0.078511905     RL1\n",
       "325 2016-09-14 12:00:00   0.9090179  0.090982143     RL1\n",
       "326 2016-09-14 13:00:00   0.8929167  0.107083333     RL1\n",
       "327 2016-09-14 14:00:00   0.8859821  0.114017857     RL1\n",
       "328 2016-09-14 15:00:00   0.8797024  0.120297619     RL1\n",
       "329 2016-09-14 16:00:00   0.8917560  0.108244048     RL1\n",
       "330 2016-09-14 17:00:00   0.8870833  0.112916667     RL1\n",
       "331 2016-09-14 18:00:00   0.8848810  0.115119048     RL1\n",
       "332 2016-09-14 19:00:00   0.8940476  0.105952381     RL1\n",
       "333 2016-09-14 20:00:00   0.9085417  0.091458333     RL1\n",
       "334 2016-09-14 21:00:00   0.9207440  0.079255952     RL1\n",
       "335 2016-09-14 22:00:00   0.9376488  0.062351190     RL1\n",
       "336 2016-09-14 23:00:00   0.9403274  0.059672619     RL1\n",
       "337 2016-09-15 00:00:00   0.9315774  0.068422619     RL1\n",
       "338 2016-09-15 01:00:00   0.9465179  0.053482143     RL1\n",
       "339 2016-09-15 02:00:00   0.9563690  0.043630952     RL1\n",
       "340 2016-09-15 03:00:00   0.9594048  0.040595238     RL1\n",
       "341 2016-09-15 04:00:00   0.9569345  0.043065476     RL1\n",
       "342 2016-09-15 05:00:00   0.9684821  0.031517857     RL1\n",
       "343 2016-09-15 06:00:00   0.9663988  0.033601190     RL1\n",
       "344 2016-09-15 07:00:00   0.9761607  0.023839286     RL1\n",
       "345 2016-09-15 08:00:00   0.9861012  0.013898810     RL1\n",
       "346 2016-09-15 09:00:00   0.9858631  0.014136905     RL1\n",
       "347 2016-09-15 10:00:00   0.9916667  0.008333333     RL1\n",
       "348 2016-09-15 11:00:00   0.9916667  0.008333333     RL1\n",
       "349 2016-09-15 12:00:00   0.9917262  0.008273810     RL1\n",
       "350 2016-09-15 13:00:00   0.9917262  0.008273810     RL1\n",
       "351 2016-09-15 14:00:00   0.9938095  0.006190476     RL1\n",
       "352 2016-09-15 15:00:00   0.9801786  0.019821429     RL1\n",
       "353 2016-09-15 16:00:00   0.9775000  0.022500000     RL1\n",
       "354 2016-09-15 17:00:00   0.9791667  0.020833333     RL1\n",
       "355 2016-09-15 18:00:00   0.9554167  0.044583333     RL1\n",
       "356 2016-09-15 19:00:00   0.9526786  0.047321429     RL1\n",
       "357 2016-09-15 20:00:00   0.9475595  0.052440476     RL1\n",
       "358 2016-09-15 21:00:00   0.9475595  0.052440476     RL1\n",
       "359 2016-09-15 22:00:00   0.9475595  0.052440476     RL1\n",
       "360 2016-09-15 23:00:00   0.9533631  0.046636905     RL1\n",
       "361 2016-09-16 00:00:00   0.9458333  0.054166667     RL1\n",
       "362 2016-09-16 01:00:00   0.9458333  0.054166667     RL1\n",
       "363 2016-09-16 02:00:00   0.9681548  0.031845238     RL1\n",
       "364 2016-09-16 03:00:00   0.9558631  0.044136905     RL1\n",
       "365 2016-09-16 04:00:00   0.9633929  0.036607143     RL1\n",
       "366 2016-09-16 05:00:00   0.9609821  0.039017857     RL1\n",
       "367 2016-09-16 06:00:00   0.9444643  0.055535714     RL1\n",
       "368 2016-09-16 07:00:00   0.9531548  0.046845238     RL1\n",
       "369 2016-09-16 08:00:00   0.9538690  0.046130952     RL1\n",
       "370 2016-09-16 09:00:00   0.9538690  0.046130952     RL1\n",
       "371 2016-09-16 10:00:00   0.9494643  0.050535714     RL1\n",
       "372 2016-09-16 11:00:00   0.9609524  0.039047619     RL1\n",
       "373 2016-09-16 12:00:00   0.9609524  0.039047619     RL1\n",
       "374 2016-09-16 13:00:00   0.9506845  0.049315476     RL1\n",
       "375 2016-09-16 14:00:00   0.9352976  0.064702381     RL1\n",
       "376 2016-09-16 15:00:00   0.9318155  0.068184524     RL1\n",
       "377 2016-09-16 16:00:00   0.9425595  0.057440476     RL1\n",
       "378 2016-09-16 17:00:00   0.9418155  0.058184524     RL1\n",
       "379 2016-09-16 18:00:00   0.9122321  0.087767857     RL1\n",
       "380 2016-09-16 19:00:00   0.9157738  0.084226190     RL1\n",
       "381 2016-09-16 20:00:00   0.9086310  0.091369048     RL1\n",
       "382 2016-09-16 21:00:00   0.9203571  0.079642857     RL1\n",
       "383 2016-09-16 22:00:00   0.9462500  0.053750000     RL1\n",
       "384 2016-09-16 23:00:00   0.9497321  0.050267857     RL1\n",
       "385 2016-09-17 00:00:00   0.9297619  0.070238095     RL1\n",
       "386 2016-09-17 01:00:00   0.9208333  0.079166667     RL1\n",
       "387 2016-09-17 02:00:00   0.9538988  0.046101190     RL1\n",
       "388 2016-09-17 03:00:00   0.9408929  0.059107143     RL1\n",
       "389 2016-09-17 04:00:00   0.9443452  0.055654762     RL1\n",
       "390 2016-09-17 05:00:00   0.9224107  0.077589286     RL1\n",
       "391 2016-09-17 06:00:00   0.9258929  0.074107143     RL1\n",
       "392 2016-09-17 07:00:00   0.9239881  0.076011905     RL1\n",
       "393 2016-09-17 08:00:00   0.9222024  0.077797619     RL1\n",
       "394 2016-09-17 09:00:00   0.9318750  0.068125000     RL1\n",
       "395 2016-09-17 10:00:00   0.9190179  0.080982143     RL1\n",
       "396 2016-09-17 11:00:00   0.9320238  0.067976190     RL1\n",
       "397 2016-09-17 12:00:00   0.9297917  0.070208333     RL1\n",
       "398 2016-09-17 13:00:00   0.9439881  0.056011905     RL1\n",
       "399 2016-09-17 14:00:00   0.9401190  0.059880952     RL1\n",
       "400 2016-09-17 15:00:00   0.9420238  0.057976190     RL1\n",
       "401 2016-09-17 16:00:00   0.9635417  0.036458333     RL1\n",
       "402 2016-09-17 17:00:00   0.9635417  0.036458333     RL1\n",
       "403 2016-09-17 18:00:00   0.9749405  0.025059524     RL1\n",
       "404 2016-09-17 19:00:00   0.9700298  0.029970238     RL1\n",
       "405 2016-09-17 20:00:00   0.9588988  0.041101190     RL1\n",
       "406 2016-09-17 21:00:00   0.9626190  0.037380952     RL1\n",
       "407 2016-09-17 22:00:00   0.9672321  0.032767857     RL1\n",
       "408 2016-09-17 23:00:00   0.9609226  0.039077381     RL1\n",
       "409 2016-09-18 00:00:00   0.9520536  0.047946429     RL1\n",
       "410 2016-09-18 01:00:00   0.9455060  0.054494048     RL1\n",
       "411 2016-09-18 02:00:00   0.9493155  0.050684524     RL1\n",
       "412 2016-09-18 03:00:00   0.9531250  0.046875000     RL1\n",
       "413 2016-09-18 04:00:00   0.9528571  0.047142857     RL1\n",
       "414 2016-09-18 05:00:00   0.9561012  0.043898810     RL1\n",
       "415 2016-09-18 06:00:00   0.9558929  0.044107143     RL1\n",
       "416 2016-09-18 07:00:00   0.9567262  0.043273810     RL1\n",
       "417 2016-09-18 08:00:00   0.9555357  0.044464286     RL1\n",
       "418 2016-09-18 09:00:00   0.9576786  0.042321429     RL1\n",
       "419 2016-09-18 10:00:00   0.9570833  0.042916667     RL1\n",
       "420 2016-09-18 11:00:00   0.9581845  0.041815476     RL1\n",
       "421 2016-09-18 12:00:00   0.9755060  0.024494048     RL1\n",
       "422 2016-09-18 13:00:00   0.9513393  0.048660714     RL1\n",
       "423 2016-09-18 14:00:00   0.9504762  0.049523810     RL1\n",
       "424 2016-09-18 15:00:00   0.9519940  0.048005952     RL1\n",
       "425 2016-09-18 16:00:00   0.9586310  0.041369048     RL1\n",
       "426 2016-09-18 17:00:00   0.9580060  0.041994048     RL1\n",
       "427 2016-09-18 18:00:00   0.9585119  0.041488095     RL1\n",
       "428 2016-09-18 19:00:00   0.9585119  0.041488095     RL1\n",
       "429 2016-09-18 20:00:00   0.9533929  0.046607143     RL1\n",
       "430 2016-09-18 21:00:00   0.9676786  0.032321429     RL1\n",
       "431 2016-09-18 22:00:00   0.9552083  0.044791667     RL1\n",
       "432 2016-09-18 23:00:00   0.9352679  0.064732143     RL1\n",
       "433 2016-09-19 00:00:00   0.9379762  0.062023810     RL1\n",
       "434 2016-09-19 01:00:00   0.9390774  0.060922619     RL1\n",
       "435 2016-09-19 02:00:00   0.9391667  0.060833333     RL1\n",
       "436 2016-09-19 03:00:00   0.9302679  0.069732143     RL1\n",
       "437 2016-09-19 04:00:00   0.9318155  0.068184524     RL1\n",
       "438 2016-09-19 05:00:00   0.9416964  0.058303571     RL1\n",
       "439 2016-09-19 06:00:00   0.9540774  0.045922619     RL1\n",
       "440 2016-09-19 07:00:00   0.9593750  0.040625000     RL1\n",
       "441 2016-09-19 08:00:00   0.9497321  0.050267857     RL1\n",
       "442 2016-09-19 09:00:00   0.9536607  0.046339286     RL1\n",
       "443 2016-09-19 10:00:00   0.9536607  0.046339286     RL1\n",
       "444 2016-09-19 11:00:00   0.9486607  0.051339286     RL1\n",
       "445 2016-09-19 12:00:00   0.9274405  0.072559524     RL1\n",
       "446 2016-09-19 13:00:00   0.9269643  0.073035714     RL1\n",
       "447 2016-09-19 14:00:00   0.9209821  0.079017857     RL1\n",
       "448 2016-09-19 15:00:00   0.9322917  0.067708333     RL1\n",
       "449 2016-09-19 16:00:00   0.9428869  0.057113095     RL1\n",
       "450 2016-09-19 17:00:00   0.9428869  0.057113095     RL1\n",
       "451 2016-09-19 18:00:00   0.9428869  0.057113095     RL1\n",
       "452 2016-09-19 19:00:00   0.9567857  0.043214286     RL1\n",
       "453 2016-09-19 20:00:00   0.9780357  0.021964286     RL1\n",
       "454 2016-09-19 21:00:00   0.9691071  0.030892857     RL1\n",
       "455 2016-09-19 22:00:00   0.9772321  0.022767857     RL1\n",
       "456 2016-09-19 23:00:00   0.9664881  0.033511905     RL1\n",
       "457 2016-09-20 00:00:00   0.9590179  0.040982143     RL1\n",
       "458 2016-09-20 01:00:00   0.9568155  0.043184524     RL1\n",
       "459 2016-09-20 02:00:00   0.9407440  0.059255952     RL1\n",
       "460 2016-09-20 03:00:00   0.9374405  0.062559524     RL1\n",
       "461 2016-09-20 04:00:00   0.9397321  0.060267857     RL1\n",
       "462 2016-09-20 05:00:00   0.9508631  0.049136905     RL1\n",
       "463 2016-09-20 06:00:00   0.9378274  0.062172619     RL1\n",
       "464 2016-09-20 07:00:00   0.9394940  0.060505952     RL1\n",
       "465 2016-09-20 08:00:00   0.9413988  0.058601190     RL1\n",
       "466 2016-09-20 09:00:00   0.9393452  0.060654762     RL1\n",
       "467 2016-09-20 10:00:00   0.9554167  0.044583333     RL1\n",
       "468 2016-09-20 11:00:00   0.9478571  0.052142857     RL1\n",
       "469 2016-09-20 12:00:00   0.9357738  0.064226190     RL1\n",
       "470 2016-09-20 13:00:00   0.9299702  0.070029762     RL1\n",
       "471 2016-09-20 14:00:00   0.9302679  0.069732143     RL1\n",
       "472 2016-09-20 15:00:00   0.9466369  0.053363095     RL1\n",
       "473 2016-09-20 16:00:00   0.9465179  0.053482143     RL1\n",
       "474 2016-09-20 17:00:00   0.9453869  0.054613095     RL1\n",
       "475 2016-09-20 18:00:00   0.9354464  0.064553571     RL1\n",
       "476 2016-09-20 19:00:00   0.9425000  0.057500000     RL1\n",
       "477 2016-09-20 20:00:00   0.9402976  0.059702381     RL1\n",
       "478 2016-09-20 21:00:00   0.9461012  0.053898810     RL1\n",
       "479 2016-09-20 22:00:00   0.9481845  0.051815476     RL1\n",
       "480 2016-09-20 23:00:00   0.9332143  0.066785714     RL1\n",
       "481 2016-09-21 00:00:00   0.9230655  0.076934524     RL1\n",
       "482 2016-09-21 01:00:00   0.9174702  0.082529762     RL1\n",
       "483 2016-09-21 02:00:00   0.9091369  0.090863095     RL1\n",
       "484 2016-09-21 03:00:00   0.8813095  0.118690476     RL1\n",
       "485 2016-09-21 04:00:00   0.8625893  0.137410714     RL1\n",
       "486 2016-09-21 05:00:00   0.8492262  0.150773810     RL1\n",
       "487 2016-09-21 06:00:00   0.8606845  0.139315476     RL1\n",
       "488 2016-09-21 07:00:00   0.8590774  0.140922619     RL1\n",
       "489 2016-09-21 08:00:00   0.8738393  0.126160714     RL1\n",
       "490 2016-09-21 09:00:00   0.8658333  0.134166667     RL1\n",
       "491 2016-09-21 10:00:00   0.8789881  0.121011905     RL1\n",
       "492 2016-09-21 11:00:00   0.9106250  0.089375000     RL1\n",
       "493 2016-09-21 12:00:00   0.9414583  0.058541667     RL1\n",
       "494 2016-09-21 13:00:00   0.9539583  0.046041667     RL1\n",
       "495 2016-09-21 14:00:00   0.9539583  0.046041667     RL1\n",
       "496 2016-09-21 15:00:00   0.9540179  0.045982143     RL1\n",
       "497 2016-09-21 16:00:00   0.9330357  0.066964286     RL1\n",
       "498 2016-09-21 17:00:00   0.9448214  0.055178571     RL1\n",
       "499 2016-09-21 18:00:00   0.9482143  0.051785714     RL1\n",
       "500 2016-09-21 19:00:00   0.9451786  0.054821429     RL1\n",
       "501 2016-09-21 20:00:00   0.9474107  0.052589286     RL1\n",
       "502 2016-09-21 21:00:00   0.9440179  0.055982143     RL1\n",
       "503 2016-09-21 22:00:00   0.9196131  0.080386905     RL1\n",
       "504 2016-09-21 23:00:00   0.9318155  0.068184524     RL1\n",
       "505 2016-09-22 00:00:00   0.9538690  0.046130952     RL1\n",
       "506 2016-09-22 01:00:00   0.9524405  0.047559524     RL1\n",
       "507 2016-09-22 02:00:00   0.9374405  0.062559524     RL1\n",
       "508 2016-09-22 03:00:00   0.9404762  0.059523810     RL1\n",
       "509 2016-09-22 04:00:00   0.9416667  0.058333333     RL1\n",
       "510 2016-09-22 05:00:00   0.9459226  0.054077381     RL1\n",
       "511 2016-09-22 06:00:00   0.9470238  0.052976190     RL1\n",
       "512 2016-09-22 07:00:00   0.9481845  0.051815476     RL1\n",
       "513 2016-09-22 08:00:00   0.9395536  0.060446429     RL1\n",
       "514 2016-09-22 09:00:00   0.9463095  0.053690476     RL1\n",
       "515 2016-09-22 10:00:00   0.9618155  0.038184524     RL1\n",
       "516 2016-09-22 11:00:00   0.9600595  0.039940476     RL1\n",
       "517 2016-09-22 12:00:00   0.9546429  0.045357143     RL1\n",
       "518 2016-09-22 13:00:00   0.9529762  0.047023810     RL1\n",
       "519 2016-09-22 14:00:00   0.9564583  0.043541667     RL1\n",
       "520 2016-09-22 15:00:00   0.9596131  0.040386905     RL1\n",
       "521 2016-09-22 16:00:00   0.9461012  0.053898810     RL1\n",
       "522 2016-09-22 17:00:00   0.9437202  0.056279762     RL1\n",
       "523 2016-09-22 18:00:00   0.9445238  0.055476190     RL1\n",
       "524 2016-09-22 19:00:00   0.9448214  0.055178571     RL1\n",
       "525 2016-09-22 20:00:00   0.9502381  0.049761905     RL1\n",
       "526 2016-09-22 21:00:00   0.9519048  0.048095238     RL1\n",
       "527 2016-09-22 22:00:00   0.9662202  0.033779762     RL1\n",
       "528 2016-09-22 23:00:00   0.9636607  0.036339286     RL1\n",
       "529 2016-09-23 00:00:00   0.9826190  0.017380952     RL1\n",
       "530 2016-09-23 01:00:00   0.9772917  0.022708333     RL1\n",
       "531 2016-09-23 02:00:00   0.9777083  0.022291667     RL1\n",
       "532 2016-09-23 03:00:00   0.9664583  0.033541667     RL1\n",
       "533 2016-09-23 04:00:00   0.9654167  0.034583333     RL1\n",
       "534 2016-09-23 05:00:00   0.9441071  0.055892857     RL1\n",
       "535 2016-09-23 06:00:00   0.9464881  0.053511905     RL1\n",
       "536 2016-09-23 07:00:00   0.9442560  0.055744048     RL1\n",
       "537 2016-09-23 08:00:00   0.9433036  0.056696429     RL1\n",
       "538 2016-09-23 09:00:00   0.9460417  0.053958333     RL1\n",
       "539 2016-09-23 10:00:00   0.9460417  0.053958333     RL1\n",
       "540 2016-09-23 11:00:00   0.9429167  0.057083333     RL1\n",
       "541 2016-09-23 12:00:00   0.9439583  0.056041667     RL1\n",
       "542 2016-09-23 13:00:00   0.9652679  0.034732143     RL1\n",
       "543 2016-09-23 14:00:00   0.9653869  0.034613095     RL1\n",
       "544 2016-09-23 15:00:00   0.9701786  0.029821429     RL1\n",
       "545 2016-09-23 16:00:00   0.9733929  0.026607143     RL1\n",
       "546 2016-09-23 17:00:00   0.9775893  0.022410714     RL1\n",
       "547 2016-09-23 18:00:00   0.9722619  0.027738095     RL1\n",
       "548 2016-09-23 19:00:00   0.9857738  0.014226190     RL1\n",
       "549 2016-09-23 20:00:00   0.9839286  0.016071429     RL1\n",
       "550 2016-09-23 21:00:00   0.9832440  0.016755952     RL1\n",
       "551 2016-09-23 22:00:00   0.9858631  0.014136905     RL1\n",
       "552 2016-09-23 23:00:00   0.9785417  0.021458333     RL1\n",
       "553 2016-09-24 00:00:00   0.9794643  0.020535714     RL1\n",
       "554 2016-09-24 01:00:00   0.9796429  0.020357143     RL1\n",
       "555 2016-09-24 02:00:00   0.9569643  0.043035714     RL1\n",
       "556 2016-09-24 03:00:00   0.9581250  0.041875000     RL1\n",
       "557 2016-09-24 04:00:00   0.9595536  0.040446429     RL1\n",
       "558 2016-09-24 05:00:00   0.9588988  0.041101190     RL1\n",
       "559 2016-09-24 06:00:00   0.9592857  0.040714286     RL1\n",
       "560 2016-09-24 07:00:00   0.9666071  0.033392857     RL1\n",
       "561 2016-09-24 08:00:00   0.9562798  0.043720238     RL1\n",
       "562 2016-09-24 09:00:00   0.9427679  0.057232143     RL1\n",
       "563 2016-09-24 10:00:00   0.9618452  0.038154762     RL1\n",
       "564 2016-09-24 11:00:00   0.9574107  0.042589286     RL1\n",
       "565 2016-09-24 12:00:00   0.9384821  0.061517857     RL1\n",
       "566 2016-09-24 13:00:00   0.9398214  0.060178571     RL1\n",
       "567 2016-09-24 14:00:00   0.9272917  0.072708333     RL1\n",
       "568 2016-09-24 15:00:00   0.9272917  0.072708333     RL1\n",
       "569 2016-09-24 16:00:00   0.9317857  0.068214286     RL1\n",
       "570 2016-09-24 17:00:00   0.9209226  0.079077381     RL1\n",
       "571 2016-09-24 18:00:00   0.9181845  0.081815476     RL1\n",
       "572 2016-09-24 19:00:00   0.9191667  0.080833333     RL1\n",
       "573 2016-09-24 20:00:00   0.9291667  0.070833333     RL1\n",
       "574 2016-09-24 21:00:00   0.9268452  0.073154762     RL1\n",
       "575 2016-09-24 22:00:00   0.9328571  0.067142857     RL1\n",
       "576 2016-09-24 23:00:00   0.9328571  0.067142857     RL1\n",
       "577 2016-09-25 00:00:00   0.9336905  0.066309524     RL1\n",
       "578 2016-09-25 01:00:00   0.9529167  0.047083333     RL1\n",
       "579 2016-09-25 02:00:00   0.9559226  0.044077381     RL1\n",
       "580 2016-09-25 03:00:00   0.9455952  0.054404762     RL1\n",
       "581 2016-09-25 04:00:00   0.9410714  0.058928571     RL1\n",
       "582 2016-09-25 05:00:00   0.9372619  0.062738095     RL1\n",
       "583 2016-09-25 06:00:00   0.9396726  0.060327381     RL1\n",
       "584 2016-09-25 07:00:00   0.9396726  0.060327381     RL1\n",
       "585 2016-09-25 08:00:00   0.9444643  0.055535714     RL1\n",
       "586 2016-09-25 09:00:00   0.9472917  0.052708333     RL1\n",
       "587 2016-09-25 10:00:00   0.9559524  0.044047619     RL1\n",
       "588 2016-09-25 11:00:00   0.9686905  0.031309524     RL1\n",
       "589 2016-09-25 12:00:00   0.9789583  0.021041667     RL1\n",
       "590 2016-09-25 13:00:00   0.9839286  0.016071429     RL1\n",
       "591 2016-09-25 14:00:00   0.9880357  0.011964286     RL1\n",
       "592 2016-09-25 15:00:00   0.9880357  0.011964286     RL1\n",
       "593 2016-09-25 16:00:00   0.9882440  0.011755952     RL1\n",
       "594 2016-09-25 17:00:00   0.9883929  0.011607143     RL1\n",
       "595 2016-09-25 18:00:00   0.9837500  0.016250000     RL1\n",
       "596 2016-09-25 19:00:00   0.9791369  0.020863095     RL1\n",
       "597 2016-09-25 20:00:00   0.9821726  0.017827381     RL1\n",
       "598 2016-09-25 21:00:00   0.9798512  0.020148810     RL1\n",
       "599 2016-09-25 22:00:00   0.9649405  0.035059524     RL1\n",
       "600 2016-09-25 23:00:00   0.9417262  0.058273810     RL1\n",
       "601 2016-09-26 00:00:00   0.9417262  0.058273810     RL1\n",
       "602 2016-09-26 01:00:00   0.9251488  0.074851190     RL1\n",
       "603 2016-09-26 02:00:00   0.9297917  0.070208333     RL1\n",
       "604 2016-09-26 03:00:00   0.9323512  0.067648810     RL1\n",
       "605 2016-09-26 04:00:00   0.9191964  0.080803571     RL1\n",
       "606 2016-09-26 05:00:00   0.9192560  0.080744048     RL1\n",
       "607 2016-09-26 06:00:00   0.9292857  0.070714286     RL1\n",
       "608 2016-09-26 07:00:00   0.9504762  0.049523810     RL1\n",
       "609 2016-09-26 08:00:00   0.9493452  0.050654762     RL1\n",
       "610 2016-09-26 09:00:00   0.9636310  0.036369048     RL1\n",
       "611 2016-09-26 10:00:00   0.9567857  0.043214286     RL1\n",
       "612 2016-09-26 11:00:00   0.9582738  0.041726190     RL1\n",
       "613 2016-09-26 12:00:00   0.9666369  0.033363095     RL1\n",
       "614 2016-09-26 13:00:00   0.9638690  0.036130952     RL1\n",
       "615 2016-09-26 14:00:00   0.9586905  0.041309524     RL1\n",
       "616 2016-09-26 15:00:00   0.9544048  0.045595238     RL1\n",
       "617 2016-09-26 16:00:00   0.9503571  0.049642857     RL1\n",
       "618 2016-09-26 17:00:00   0.9478571  0.052142857     RL1\n",
       "619 2016-09-26 18:00:00   0.9405357  0.059464286     RL1\n",
       "620 2016-09-26 19:00:00   0.9421429  0.057857143     RL1\n",
       "621 2016-09-26 20:00:00   0.9475000  0.052500000     RL1\n",
       "622 2016-09-26 21:00:00   0.9536905  0.046309524     RL1\n",
       "623 2016-09-26 22:00:00   0.9637500  0.036250000     RL1\n",
       "624 2016-09-26 23:00:00   0.9700595  0.029940476     RL1\n",
       "625 2016-09-27 00:00:00   0.9752381  0.024761905     RL1\n",
       "626 2016-09-27 01:00:00   0.9846726  0.015327381     RL1\n",
       "627 2016-09-27 02:00:00   0.9934821  0.006517857     RL1\n",
       "628 2016-09-27 03:00:00   0.9920238  0.007976190     RL1\n",
       "629 2016-09-27 04:00:00   0.9920238  0.007976190     RL1\n",
       "630 2016-09-27 05:00:00   0.9845238  0.015476190     RL1\n",
       "631 2016-09-27 06:00:00   0.9845238  0.015476190     RL1\n",
       "632 2016-09-27 07:00:00   0.9754762  0.024523810     RL1\n",
       "633 2016-09-27 08:00:00   0.9681548  0.031845238     RL1\n",
       "634 2016-09-27 09:00:00   0.9681548  0.031845238     RL1\n",
       "635 2016-09-27 10:00:00   0.9403274  0.059672619     RL1\n",
       "636 2016-09-27 11:00:00   0.9429464  0.057053571     RL1\n",
       "637 2016-09-27 12:00:00   0.9341369  0.065863095     RL1\n",
       "638 2016-09-27 13:00:00   0.9262500  0.073750000     RL1\n",
       "639 2016-09-27 14:00:00   0.9254762  0.074523810     RL1\n",
       "640 2016-09-27 15:00:00   0.9345238  0.065476190     RL1\n",
       "641 2016-09-27 16:00:00   0.9418452  0.058154762     RL1\n",
       "642 2016-09-27 17:00:00   0.9385714  0.061428571     RL1\n",
       "643 2016-09-27 18:00:00   0.9691369  0.030863095     RL1\n",
       "644 2016-09-27 19:00:00   0.9691369  0.030863095     RL1\n",
       "645 2016-09-27 20:00:00   0.9762798  0.023720238     RL1\n",
       "646 2016-09-27 21:00:00   0.9681250  0.031875000     RL1\n",
       "647 2016-09-27 22:00:00   0.9688988  0.031101190     RL1\n",
       "648 2016-09-27 23:00:00   0.9658631  0.034136905     RL1\n",
       "649 2016-09-28 00:00:00   0.9658631  0.034136905     RL1\n",
       "650 2016-09-28 01:00:00   0.9626786  0.037321429     RL1\n",
       "651 2016-09-28 02:00:00   0.9510119  0.048988095     RL1\n",
       "652 2016-09-28 03:00:00   0.9510119  0.048988095     RL1\n",
       "653 2016-09-28 04:00:00   0.9526786  0.047321429     RL1\n",
       "654 2016-09-28 05:00:00   0.9688988  0.031101190     RL1\n",
       "655 2016-09-28 06:00:00   0.9625595  0.037440476     RL1\n",
       "656 2016-09-28 07:00:00   0.9346726  0.065327381     RL1\n",
       "657 2016-09-28 08:00:00   0.9279464  0.072053571     RL1\n",
       "658 2016-09-28 09:00:00   0.9337202  0.066279762     RL1\n",
       "659 2016-09-28 10:00:00   0.9423810  0.057619048     RL1\n",
       "660 2016-09-28 11:00:00   0.9278274  0.072172619     RL1\n",
       "661 2016-09-28 12:00:00   0.9210417  0.078958333     RL1\n",
       "662 2016-09-28 13:00:00   0.9270833  0.072916667     RL1\n",
       "663 2016-09-28 14:00:00   0.9209821  0.079017857     RL1\n",
       "664 2016-09-28 15:00:00   0.9436607  0.056339286     RL1\n",
       "665 2016-09-28 16:00:00   0.9459821  0.054017857     RL1\n",
       "666 2016-09-28 17:00:00   0.9184821  0.081517857     RL1\n",
       "667 2016-09-28 18:00:00   0.9241071  0.075892857     RL1\n",
       "668 2016-09-28 19:00:00   0.9386607  0.061339286     RL1\n",
       "669 2016-09-28 20:00:00   0.9417262  0.058273810     RL1\n",
       "670 2016-09-28 21:00:00   0.9415179  0.058482143     RL1\n",
       "671 2016-09-28 22:00:00   0.9375298  0.062470238     RL1\n",
       "672 2016-09-28 23:00:00   0.9457738  0.054226190     RL1\n",
       "673 2016-09-29 00:00:00   0.9501786  0.049821429     RL1\n",
       "674 2016-09-29 01:00:00   0.9580655  0.041934524     RL1\n",
       "675 2016-09-29 02:00:00   0.9519643  0.048035714     RL1\n",
       "676 2016-09-29 03:00:00   0.9248810  0.075119048     RL1\n",
       "677 2016-09-29 04:00:00   0.9269940  0.073005952     RL1\n",
       "678 2016-09-29 05:00:00   0.9284821  0.071517857     RL1\n",
       "679 2016-09-29 06:00:00   0.9425298  0.057470238     RL1\n",
       "680 2016-09-29 07:00:00   0.9407440  0.059255952     RL1\n",
       "681 2016-09-29 08:00:00   0.9265476  0.073452381     RL1\n",
       "682 2016-09-29 09:00:00   0.9304167  0.069583333     RL1\n",
       "683 2016-09-29 10:00:00   0.9173214  0.082678571     RL1\n",
       "684 2016-09-29 11:00:00   0.9283333  0.071666667     RL1\n",
       "685 2016-09-29 12:00:00   0.9299405  0.070059524     RL1\n",
       "686 2016-09-29 13:00:00   0.9159226  0.084077381     RL1\n",
       "687 2016-09-29 14:00:00   0.9173512  0.082648810     RL1\n",
       "688 2016-09-29 15:00:00   0.9138690  0.086130952     RL1\n",
       "689 2016-09-29 16:00:00   0.9238690  0.076130952     RL1\n",
       "690 2016-09-29 17:00:00   0.9326488  0.067351190     RL1\n",
       "691 2016-09-29 18:00:00   0.9518452  0.048154762     RL1\n",
       "692 2016-09-29 19:00:00   0.9603571  0.039642857     RL1\n",
       "693 2016-09-29 20:00:00   0.9572619  0.042738095     RL1\n",
       "694 2016-09-29 21:00:00   0.9712798  0.028720238     RL1\n",
       "695 2016-09-29 22:00:00   0.9722321  0.027767857     RL1\n",
       "696 2016-09-29 23:00:00   0.9683333  0.031666667     RL1\n",
       "697 2016-09-30 00:00:00   0.9500893  0.049910714     RL1\n",
       "698 2016-09-30 01:00:00   0.9501488  0.049851190     RL1\n",
       "699 2016-09-30 02:00:00   0.9327679  0.067232143     RL1\n",
       "700 2016-09-30 03:00:00   0.9167262  0.083273810     RL1\n",
       "701 2016-09-30 04:00:00   0.9038393  0.096160714     RL1\n",
       "702 2016-09-30 05:00:00   0.8856548  0.114345238     RL1\n",
       "703 2016-09-30 06:00:00   0.8652381  0.134761905     RL1\n",
       "704 2016-09-30 07:00:00   0.8723512  0.127648810     RL1\n",
       "705 2016-09-30 08:00:00   0.8947917  0.105208333     RL1\n",
       "706 2016-09-30 09:00:00   0.8958036  0.104196429     RL1\n",
       "707 2016-09-30 10:00:00   0.9112202  0.088779762     RL1\n",
       "708 2016-09-30 11:00:00   0.9187202  0.081279762     RL1\n",
       "709 2016-09-30 12:00:00   0.9326488  0.067351190     RL1\n",
       "710 2016-09-30 13:00:00   0.9319345  0.068065476     RL1\n",
       "711 2016-09-30 14:00:00   0.9523512  0.047648810     RL1\n",
       "712 2016-09-30 15:00:00   0.9464881  0.053511905     RL1\n",
       "713 2016-09-30 16:00:00   0.9429167  0.057083333     RL1\n",
       "714 2016-09-30 17:00:00   0.9478274  0.052172619     RL1\n",
       "715 2016-09-30 18:00:00   0.9463988  0.053601190     RL1\n",
       "716 2016-09-30 19:00:00   0.9625000  0.037500000     RL1\n",
       "717 2016-09-30 20:00:00   0.9645536  0.035446429     RL1\n",
       "718 2016-09-30 21:00:00   0.9799405  0.020059524     RL1\n",
       "719 2016-09-30 22:00:00   0.9799405  0.020059524     RL1\n",
       "720 2016-09-30 23:00:00   0.9878571  0.012142857     RL1\n"
      ]
     },
     "metadata": {},
     "output_type": "display_data"
    }
   ],
   "source": [
    "lista1$Data <- RL1\n",
    "head(lista1,5)"
   ]
  },
  {
   "cell_type": "code",
   "execution_count": 31,
   "metadata": {},
   "outputs": [
    {
     "data": {
      "text/plain": [
       "             Length Class      Mode     \n",
       "Machine      1      -none-     character\n",
       "Stats        3      -none-     numeric  \n",
       "LowThreshold 1      -none-     logical  \n",
       "UnknownHours 7      POSIXct    numeric  \n",
       "Data         4      data.frame list     "
      ]
     },
     "metadata": {},
     "output_type": "display_data"
    }
   ],
   "source": [
    "summary(lista1)"
   ]
  },
  {
   "cell_type": "code",
   "execution_count": 32,
   "metadata": {},
   "outputs": [
    {
     "data": {
      "text/html": [
       "<dl>\n",
       "\t<dt>$Machine</dt>\n",
       "\t\t<dd>'RL1'</dd>\n",
       "\t<dt>$Stats</dt>\n",
       "\t\t<dd><ol class=list-inline>\n",
       "\t<li>0.84922619</li>\n",
       "\t<li>0.951697597345021</li>\n",
       "\t<li>0.995</li>\n",
       "</ol>\n",
       "</dd>\n",
       "</dl>\n"
      ],
      "text/latex": [
       "\\begin{description}\n",
       "\\item[\\$Machine] 'RL1'\n",
       "\\item[\\$Stats] \\begin{enumerate*}\n",
       "\\item 0.84922619\n",
       "\\item 0.951697597345021\n",
       "\\item 0.995\n",
       "\\end{enumerate*}\n",
       "\n",
       "\\end{description}\n"
      ],
      "text/markdown": [
       "$Machine\n",
       ":   'RL1'\n",
       "$Stats\n",
       ":   1. 0.84922619\n",
       "2. 0.951697597345021\n",
       "3. 0.995\n",
       "\n",
       "\n",
       "\n",
       "\n",
       "\n"
      ],
      "text/plain": [
       "$Machine\n",
       "[1] \"RL1\"\n",
       "\n",
       "$Stats\n",
       "[1] 0.8492262 0.9516976 0.9950000\n"
      ]
     },
     "metadata": {},
     "output_type": "display_data"
    }
   ],
   "source": [
    "# Subsets:\n",
    "sub_set <- lista1[c(\"Machine\",\"Stats\")]\n",
    "sub_set"
   ]
  },
  {
   "cell_type": "code",
   "execution_count": 33,
   "metadata": {},
   "outputs": [],
   "source": [
    "# TIMESERIES PLOT\n",
    "library(\"ggplot2\")"
   ]
  },
  {
   "cell_type": "code",
   "execution_count": 34,
   "metadata": {},
   "outputs": [
    {
     "data": {
      "text/html": [
       "<table>\n",
       "<thead><tr><th scope=col>PosixTime</th><th scope=col>Utilization</th><th scope=col>Percent.Idle</th><th scope=col>Machine</th></tr></thead>\n",
       "<tbody>\n",
       "\t<tr><td>2016-09-01 00:00:00</td><td>NA                 </td><td>NA                 </td><td>RL1                </td></tr>\n",
       "\t<tr><td>2016-09-01 01:00:00</td><td>NA                 </td><td>NA                 </td><td>RL1                </td></tr>\n",
       "\t<tr><td>2016-09-01 02:00:00</td><td>NA                 </td><td>NA                 </td><td>RL1                </td></tr>\n",
       "\t<tr><td>2016-09-01 03:00:00</td><td>NA                 </td><td>NA                 </td><td>RL1                </td></tr>\n",
       "\t<tr><td>2016-09-01 04:00:00</td><td>NA                 </td><td>NA                 </td><td>RL1                </td></tr>\n",
       "\t<tr><td>2016-09-01 05:00:00</td><td>NA                 </td><td>NA                 </td><td>RL1                </td></tr>\n",
       "</tbody>\n",
       "</table>\n"
      ],
      "text/latex": [
       "\\begin{tabular}{r|llll}\n",
       " PosixTime & Utilization & Percent.Idle & Machine\\\\\n",
       "\\hline\n",
       "\t 2016-09-01 00:00:00 & NA                  & NA                  & RL1                \\\\\n",
       "\t 2016-09-01 01:00:00 & NA                  & NA                  & RL1                \\\\\n",
       "\t 2016-09-01 02:00:00 & NA                  & NA                  & RL1                \\\\\n",
       "\t 2016-09-01 03:00:00 & NA                  & NA                  & RL1                \\\\\n",
       "\t 2016-09-01 04:00:00 & NA                  & NA                  & RL1                \\\\\n",
       "\t 2016-09-01 05:00:00 & NA                  & NA                  & RL1                \\\\\n",
       "\\end{tabular}\n"
      ],
      "text/markdown": [
       "\n",
       "| PosixTime | Utilization | Percent.Idle | Machine |\n",
       "|---|---|---|---|\n",
       "| 2016-09-01 00:00:00 | NA                  | NA                  | RL1                 |\n",
       "| 2016-09-01 01:00:00 | NA                  | NA                  | RL1                 |\n",
       "| 2016-09-01 02:00:00 | NA                  | NA                  | RL1                 |\n",
       "| 2016-09-01 03:00:00 | NA                  | NA                  | RL1                 |\n",
       "| 2016-09-01 04:00:00 | NA                  | NA                  | RL1                 |\n",
       "| 2016-09-01 05:00:00 | NA                  | NA                  | RL1                 |\n",
       "\n"
      ],
      "text/plain": [
       "  PosixTime           Utilization Percent.Idle Machine\n",
       "1 2016-09-01 00:00:00 NA          NA           RL1    \n",
       "2 2016-09-01 01:00:00 NA          NA           RL1    \n",
       "3 2016-09-01 02:00:00 NA          NA           RL1    \n",
       "4 2016-09-01 03:00:00 NA          NA           RL1    \n",
       "5 2016-09-01 04:00:00 NA          NA           RL1    \n",
       "6 2016-09-01 05:00:00 NA          NA           RL1    "
      ]
     },
     "metadata": {},
     "output_type": "display_data"
    }
   ],
   "source": [
    "head(util)"
   ]
  },
  {
   "cell_type": "code",
   "execution_count": 35,
   "metadata": {},
   "outputs": [
    {
     "name": "stderr",
     "output_type": "stream",
     "text": [
      "Warning message:\n",
      "“Removed 155 row(s) containing missing values (geom_path).”"
     ]
    },
    {
     "data": {
      "image/png": "[encoded data removed]",
      "text/plain": [
       "plot without title"
      ]
     },
     "metadata": {},
     "output_type": "display_data"
    }
   ],
   "source": [
    "p <- ggplot(data=util)\n",
    "p + geom_line(aes(x=PosixTime,y=Utilization,\n",
    "                 colour=Machine),size=0.8) +\n",
    "    facet_grid(Machine~.) +\n",
    "    geom_hline(yintercept=0.90, colour=\"Gray\", size=1.2, linetype=3)"
   ]
  }
 ],
 "metadata": {
  "kernelspec": {
   "display_name": "R",
   "language": "R",
   "name": "ir"
  },
  "language_info": {
   "codemirror_mode": "r",
   "file_extension": ".r",
   "mimetype": "text/x-r-source",
   "name": "R",
   "pygments_lexer": "r",
   "version": "3.6.1"
  }
 },
 "nbformat": 4,
 "nbformat_minor": 4
}
